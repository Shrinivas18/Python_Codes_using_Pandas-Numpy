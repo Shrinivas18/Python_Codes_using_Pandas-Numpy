{
  "nbformat": 4,
  "nbformat_minor": 0,
  "metadata": {
    "colab": {
      "provenance": [],
      "authorship_tag": "ABX9TyOo0XVHDs/aQ/Xb0rEG9jxb",
      "include_colab_link": true
    },
    "kernelspec": {
      "name": "python3",
      "display_name": "Python 3"
    },
    "language_info": {
      "name": "python"
    }
  },
  "cells": [
    {
      "cell_type": "markdown",
      "metadata": {
        "id": "view-in-github",
        "colab_type": "text"
      },
      "source": [
        "<a href=\"https://colab.research.google.com/github/Shrinivas18/Python_Coding_Problems/blob/main/Fibonacci_Series.ipynb\" target=\"_parent\"><img src=\"https://colab.research.google.com/assets/colab-badge.svg\" alt=\"Open In Colab\"/></a>"
      ]
    },
    {
      "cell_type": "markdown",
      "source": [
        "**PROBLEM :**"
      ],
      "metadata": {
        "id": "pZw_yB_IlgUP"
      }
    },
    {
      "cell_type": "markdown",
      "source": [
        "To print fibonacci series.\n",
        "\n"
      ],
      "metadata": {
        "id": "vZW5GQ8fmRyb"
      }
    },
    {
      "cell_type": "code",
      "source": [
        "def fibonacci(first,second,n):\n",
        "  if n<=0:\n",
        "    return -1\n",
        "  elif n==1:\n",
        "    return first\n",
        "  elif n==2:\n",
        "    return first,\" \",second\n",
        "  else:\n",
        "    s=[]\n",
        "    s.append(first)\n",
        "    s.append(second)\n",
        "    for i in range(n-2):\n",
        "      third=first+second\n",
        "      s.append(third)\n",
        "      first=second\n",
        "      second=third\n",
        "    \n",
        "  return s\n",
        "\n",
        "n=int(input(\"Fibonnaci series of length : \"))\n",
        "\n",
        "print(\"Fibonacci series : \",fibonacci(0,1,n))\n",
        "\n",
        "\n",
        "\n",
        "\n",
        "\n",
        "\n"
      ],
      "metadata": {
        "colab": {
          "base_uri": "https://localhost:8080/"
        },
        "id": "b5h2c9qqllSo",
        "outputId": "51b0e3fa-1083-4e11-9952-eb6e34d6df14"
      },
      "execution_count": 20,
      "outputs": [
        {
          "output_type": "stream",
          "name": "stdout",
          "text": [
            "Fibonnaci series of length : 10\n",
            "Fibonacci series :  [0, 1, 1, 2, 3, 5, 8, 13, 21, 34]\n"
          ]
        }
      ]
    }
  ]
}