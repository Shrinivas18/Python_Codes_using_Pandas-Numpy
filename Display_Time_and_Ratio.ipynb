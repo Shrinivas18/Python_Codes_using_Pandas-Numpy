{
  "nbformat": 4,
  "nbformat_minor": 0,
  "metadata": {
    "colab": {
      "provenance": [],
      "authorship_tag": "ABX9TyPEbg6vLVxWQqk6v64J+RnQ",
      "include_colab_link": true
    },
    "kernelspec": {
      "name": "python3",
      "display_name": "Python 3"
    },
    "language_info": {
      "name": "python"
    }
  },
  "cells": [
    {
      "cell_type": "markdown",
      "metadata": {
        "id": "view-in-github",
        "colab_type": "text"
      },
      "source": [
        "<a href=\"https://colab.research.google.com/github/Shrinivas18/Python_Coding_Problems/blob/main/Display_Time_and_Ratio.ipynb\" target=\"_parent\"><img src=\"https://colab.research.google.com/assets/colab-badge.svg\" alt=\"Open In Colab\"/></a>"
      ]
    },
    {
      "cell_type": "markdown",
      "metadata": {
        "id": "5qd8g8UUs8CM"
      },
      "source": [
        "### Create a class <code>Time </code> which takes two inputs hours and minutes to instantiate.\n",
        "*  #### Construct a method <code>DisplayTime()</code> which displays the time in AM/PM formats. For example if the input is 14 hours and 45 mins, then this method will print \"The time is 2:45 PM\". If the inputted hours exceeds 23 then print the message \"The input hours should be less than 24\" and if the inputted minutes exceeds 59 then print the message \"The input minutes should be less than 60.\" Also if the input is 12 hours 30 minutes, then the displayed time would be 12:30 PM\n",
        "* #### Construct a method <code>DisplayRatio()</code> which should display the ratio of minutes to hours. For example, (8 hours and  16 mins) should display 2. Use <code>try</code>, <code>except</code> block to account for ZeroDivisionError."
      ]
    },
    {
      "cell_type": "code",
      "metadata": {
        "id": "FBJy9Sq_s8CN"
      },
      "source": [
        "class Time:\n",
        "  def __init__(self,hours,minutes):\n",
        "    self.hours = hours\n",
        "    self.minutes = minutes\n",
        "\n",
        "  def DisplayTime(self):\n",
        "    if self.hours > 23 or self.minutes > 59:\n",
        "      if 23<self.hours:\n",
        "        print(\"The input hours should be less than 24.\")\n",
        "      else:\n",
        "        print(\"The input minutes should be less than 60.\")\n",
        "\n",
        "    else:\n",
        "      if self.hours > 11:\n",
        "        a = self.hours - 12\n",
        "        print(f\"The time is {a}:{self.minutes}PM\")\n",
        "\n",
        "      else:\n",
        "        print(f\"The time is {self.hours}:{self.minutes}AM\")\n",
        "\n",
        "  def DisplayRatio(self):\n",
        "    if self.hours > 23 or self.minutes > 59:\n",
        "      if 23<self.hours:\n",
        "        print(\"The input hours should be less than 24.\")\n",
        "      else:\n",
        "        print(\"The input minutes should be less than 60.\")\n",
        "\n",
        "    else:\n",
        "      if self.hours > 11:\n",
        "        a = self.hours - 12\n",
        "        print(f\"The time is {a}:{self.minutes}PM\")\n",
        "\n",
        "      else:\n",
        "        try:\n",
        "          print(f\"Ratio is {round((self.minutes)/(self.hours),2)}\")\n",
        "        except ZeroDivisionError as ZE:\n",
        "          print(\"The error is :\",ZE)\n",
        "\n"
      ],
      "execution_count": null,
      "outputs": []
    },
    {
      "cell_type": "code",
      "metadata": {
        "id": "zywXa51d6Eev",
        "outputId": "156156bb-fd50-4900-f386-45339b1a4280",
        "colab": {
          "base_uri": "https://localhost:8080/"
        }
      },
      "source": [
        "# Check for few sample inputs of hours and mins\n",
        "hour_min_list = [(23,45), (34,50), (12,34), (14,67),(19,20), (2,15), (0, 10)]\n",
        "\n",
        "# Using a for loop display the corresponding 12 hour time format for the above hour_min_list\n",
        "\n",
        "for i in hour_min_list:\n",
        "  c = Time(i[0],i[1])\n",
        "  c.DisplayTime()\n",
        "\n",
        "print(\"\\n\\n\")\n",
        "\n",
        "# Also display the corresponding ratios for the above list\n",
        "\n",
        "for i in hour_min_list:\n",
        "  d = Time(i[0],i[1])\n",
        "  d.DisplayRatio()\n"
      ],
      "execution_count": null,
      "outputs": [
        {
          "output_type": "stream",
          "name": "stdout",
          "text": [
            "The time is 11:45PM\n",
            "The input hours should be less than 24.\n",
            "The time is 0:34PM\n",
            "The input minutes should be less than 60.\n",
            "The time is 7:20PM\n",
            "The time is 2:15AM\n",
            "The time is 0:10AM\n",
            "\n",
            "\n",
            "\n",
            "The time is 11:45PM\n",
            "The input hours should be less than 24.\n",
            "The time is 0:34PM\n",
            "The input minutes should be less than 60.\n",
            "The time is 7:20PM\n",
            "Ratio is 7.5\n",
            "The error is : division by zero\n"
          ]
        }
      ]
    }
  ]
}