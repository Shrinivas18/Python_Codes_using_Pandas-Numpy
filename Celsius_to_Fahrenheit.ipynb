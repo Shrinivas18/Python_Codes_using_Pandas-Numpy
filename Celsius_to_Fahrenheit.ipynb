{
  "cells": [
    {
      "cell_type": "markdown",
      "metadata": {
        "id": "view-in-github",
        "colab_type": "text"
      },
      "source": [
        "<a href=\"https://colab.research.google.com/github/Shrinivas18/Python_Coding_Problems/blob/main/Celsius_to_Fahrenheit.ipynb\" target=\"_parent\"><img src=\"https://colab.research.google.com/assets/colab-badge.svg\" alt=\"Open In Colab\"/></a>"
      ]
    },
    {
      "cell_type": "markdown",
      "metadata": {
        "id": "4hHQpomzpne_"
      },
      "source": [
        "**Project** : Convert temperature from celsius to fahrenheit."
      ]
    },
    {
      "cell_type": "code",
      "execution_count": 2,
      "metadata": {
        "colab": {
          "base_uri": "https://localhost:8080/"
        },
        "id": "kWtlhblZpoDK",
        "outputId": "f5438f11-62e5-4b3b-b28e-e493f73bf67f"
      },
      "outputs": [
        {
          "output_type": "stream",
          "name": "stdout",
          "text": [
            "Enter Temperature in Celsius : 37\n",
            "The Fahrenheit equivalent of 45 celsius =  98.60000000000001\n"
          ]
        }
      ],
      "source": [
        "celsius_temp = int(input(\"Enter Temperature in Celsius : \"))\n",
        "\n",
        "fahrenheit_temp =celsius_temp*1.8+32\n",
        "\n",
        "print(\"The Fahrenheit equivalent of 45 celsius = \", fahrenheit_temp)"
      ]
    }
  ],
  "metadata": {
    "colab": {
      "provenance": [],
      "authorship_tag": "ABX9TyMJZX9+5gVqHCBSBJvD4ZT+",
      "include_colab_link": true
    },
    "kernelspec": {
      "display_name": "Python 3",
      "name": "python3"
    },
    "language_info": {
      "name": "python"
    }
  },
  "nbformat": 4,
  "nbformat_minor": 0
}