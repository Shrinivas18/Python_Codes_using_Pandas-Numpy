{
  "nbformat": 4,
  "nbformat_minor": 0,
  "metadata": {
    "colab": {
      "provenance": [],
      "authorship_tag": "ABX9TyP7GmwkD0Avkn/dIWGl55Ep",
      "include_colab_link": true
    },
    "kernelspec": {
      "name": "python3",
      "display_name": "Python 3"
    },
    "language_info": {
      "name": "python"
    }
  },
  "cells": [
    {
      "cell_type": "markdown",
      "metadata": {
        "id": "view-in-github",
        "colab_type": "text"
      },
      "source": [
        "<a href=\"https://colab.research.google.com/github/Shrinivas18/Python_Coding_Problems/blob/main/front_back.ipynb\" target=\"_parent\"><img src=\"https://colab.research.google.com/assets/colab-badge.svg\" alt=\"Open In Colab\"/></a>"
      ]
    },
    {
      "cell_type": "markdown",
      "source": [
        "Given a string, return a new string where the first and last chars have been exchanged.\n",
        "\n",
        "\n",
        "front_back('code') → 'eodc'\n",
        "\n",
        "front_back('a') → 'a'\n",
        "\n",
        "front_back('ab') → 'ba'"
      ],
      "metadata": {
        "id": "XcpB26uHnRnA"
      }
    },
    {
      "cell_type": "code",
      "source": [
        "def front_back(str):\n",
        "  if len(str) <= 1:\n",
        "    return str\n",
        "  \n",
        "  mid = str[1:len(str)-1]  # can be written as str[1:-1]\n",
        "  \n",
        "  # last + mid + first\n",
        "  return str[len(str)-1] + mid + str[0]\n",
        "\n",
        "  \n"
      ],
      "metadata": {
        "id": "Zm2nwon0-uaf"
      },
      "execution_count": null,
      "outputs": []
    }
  ]
}