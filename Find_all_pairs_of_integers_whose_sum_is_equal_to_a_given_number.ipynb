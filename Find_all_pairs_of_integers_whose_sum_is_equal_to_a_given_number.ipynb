{
  "nbformat": 4,
  "nbformat_minor": 0,
  "metadata": {
    "colab": {
      "provenance": [],
      "authorship_tag": "ABX9TyNG5tBkeZhGZnR9ohW8Y0sw",
      "include_colab_link": true
    },
    "kernelspec": {
      "name": "python3",
      "display_name": "Python 3"
    },
    "language_info": {
      "name": "python"
    }
  },
  "cells": [
    {
      "cell_type": "markdown",
      "metadata": {
        "id": "view-in-github",
        "colab_type": "text"
      },
      "source": [
        "<a href=\"https://colab.research.google.com/github/Shrinivas18/Python_Coding_Problems/blob/main/Find_all_pairs_of_integers_whose_sum_is_equal_to_a_given_number.ipynb\" target=\"_parent\"><img src=\"https://colab.research.google.com/assets/colab-badge.svg\" alt=\"Open In Colab\"/></a>"
      ]
    },
    {
      "cell_type": "markdown",
      "source": [
        "**PROBLEM :**"
      ],
      "metadata": {
        "id": "pZw_yB_IlgUP"
      }
    },
    {
      "cell_type": "markdown",
      "source": [
        "Write a program to find all pairs of integers whose sum is equal to a given number."
      ],
      "metadata": {
        "id": "vZW5GQ8fmRyb"
      }
    },
    {
      "cell_type": "code",
      "source": [
        "def two_sum(nums, target):\n",
        "    seen = {}\n",
        "    \n",
        "    for i, num in enumerate(nums):\n",
        "        complement = target - num\n",
        "        \n",
        "        if complement in seen:\n",
        "            return [seen[complement], i]\n",
        "        \n",
        "        seen[num] = i\n",
        " \n",
        "nums = [2, 7, 11, 15]\n",
        "target = 9\n",
        "indices = two_sum(nums, target)\n",
        "print(f\"Indices of the two numbers are: {indices}\")"
      ],
      "metadata": {
        "colab": {
          "base_uri": "https://localhost:8080/"
        },
        "id": "b5h2c9qqllSo",
        "outputId": "fa6029e6-e06c-4a61-f3d4-57638b04601b"
      },
      "execution_count": 8,
      "outputs": [
        {
          "output_type": "stream",
          "name": "stdout",
          "text": [
            "Indices of the two numbers are: [0, 1]\n"
          ]
        }
      ]
    }
  ]
}