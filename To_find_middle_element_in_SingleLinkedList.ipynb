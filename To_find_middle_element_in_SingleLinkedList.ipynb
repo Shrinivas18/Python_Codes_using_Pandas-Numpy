{
  "nbformat": 4,
  "nbformat_minor": 0,
  "metadata": {
    "colab": {
      "provenance": [],
      "authorship_tag": "ABX9TyMwIAb2IssBQSPL4xGUABko",
      "include_colab_link": true
    },
    "kernelspec": {
      "name": "python3",
      "display_name": "Python 3"
    },
    "language_info": {
      "name": "python"
    }
  },
  "cells": [
    {
      "cell_type": "markdown",
      "metadata": {
        "id": "view-in-github",
        "colab_type": "text"
      },
      "source": [
        "<a href=\"https://colab.research.google.com/github/Shrinivas18/Python_Coding_Problems/blob/main/To_find_middle_element_in_SingleLinkedList.ipynb\" target=\"_parent\"><img src=\"https://colab.research.google.com/assets/colab-badge.svg\" alt=\"Open In Colab\"/></a>"
      ]
    },
    {
      "cell_type": "markdown",
      "source": [
        "**PROBLEM :**"
      ],
      "metadata": {
        "id": "pZw_yB_IlgUP"
      }
    },
    {
      "cell_type": "markdown",
      "source": [
        "Python program to find middle of a linked list using one traversal."
      ],
      "metadata": {
        "id": "vZW5GQ8fmRyb"
      }
    },
    {
      "cell_type": "code",
      "source": [
        "class Node:\n",
        "    def __init__(self, data):\n",
        "        self.data = data\n",
        "        self.next = None\n",
        " \n",
        " \n",
        "class NodeOperation:\n",
        "    # Function to add a new node\n",
        "    def pushNode(self, head_ref, data_val):\n",
        " \n",
        "        # Allocate node and put in the data\n",
        "        new_node = Node(data_val)\n",
        " \n",
        "        # Link the old list of the new node\n",
        "        new_node.next = head_ref\n",
        " \n",
        "        # move the head to point to the new node\n",
        "        head_ref = new_node\n",
        "        return head_ref\n",
        " \n",
        "    # A utility function to print a given linked list\n",
        "    def printNode(self, head):\n",
        "        while (head != None):\n",
        "            print('%d->' % head.data, end=\"\")\n",
        "            head = head.next\n",
        "        print(\"NULL\")\n",
        " \n",
        "    ''' Utility Function to find length of linked list '''\n",
        " \n",
        "    def getLen(self, head):\n",
        "        temp = head\n",
        "        len = 0\n",
        " \n",
        "        while (temp != None):\n",
        "            len += 1\n",
        "            temp = temp.next\n",
        " \n",
        "        return len\n",
        " \n",
        "    def printMiddle(self, head):\n",
        "        if head != None:\n",
        "            # find length\n",
        "            len = self.getLen(head)\n",
        "            temp = head\n",
        " \n",
        "            # traverse till we reached half of length\n",
        "            midIdx = len // 2\n",
        "            while midIdx != 0:\n",
        "                temp = temp.next\n",
        "                midIdx -= 1\n",
        " \n",
        "            # temp will be storing middle element\n",
        "            print('The middle element is: ', temp.data)\n",
        " \n",
        " \n",
        "# Driver Code\n",
        "head = None\n",
        "temp = NodeOperation()\n",
        "head = temp.pushNode(head, 5)\n",
        "head = temp.pushNode(head, 4)\n",
        "head = temp.pushNode(head, 3)\n",
        "head = temp.pushNode(head, 2)\n",
        "head = temp.pushNode(head, 1)\n",
        "temp.printNode(head)\n",
        "temp.printMiddle(head)"
      ],
      "metadata": {
        "colab": {
          "base_uri": "https://localhost:8080/"
        },
        "id": "b5h2c9qqllSo",
        "outputId": "dcebdbc6-22e1-4567-8487-ff138a9f383c"
      },
      "execution_count": 9,
      "outputs": [
        {
          "output_type": "stream",
          "name": "stdout",
          "text": [
            "1->2->3->4->5->NULL\n",
            "The middle element is:  3\n"
          ]
        }
      ]
    }
  ]
}