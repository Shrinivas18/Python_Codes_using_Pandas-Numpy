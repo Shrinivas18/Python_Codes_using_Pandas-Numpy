{
  "nbformat": 4,
  "nbformat_minor": 0,
  "metadata": {
    "colab": {
      "provenance": [],
      "authorship_tag": "ABX9TyN3XvdzFIzj/uSXPs2zNYDS",
      "include_colab_link": true
    },
    "kernelspec": {
      "name": "python3",
      "display_name": "Python 3"
    },
    "language_info": {
      "name": "python"
    }
  },
  "cells": [
    {
      "cell_type": "markdown",
      "metadata": {
        "id": "view-in-github",
        "colab_type": "text"
      },
      "source": [
        "<a href=\"https://colab.research.google.com/github/Shrinivas18/Python_Coding_Problems/blob/main/Decimal_to_Octal.ipynb\" target=\"_parent\"><img src=\"https://colab.research.google.com/assets/colab-badge.svg\" alt=\"Open In Colab\"/></a>"
      ]
    },
    {
      "cell_type": "markdown",
      "source": [
        "**PROBLEM :**"
      ],
      "metadata": {
        "id": "pZw_yB_IlgUP"
      }
    },
    {
      "cell_type": "markdown",
      "source": [
        "Python Program to convert Decimal number to Octal number.\n",
        "\n"
      ],
      "metadata": {
        "id": "vZW5GQ8fmRyb"
      }
    },
    {
      "cell_type": "code",
      "source": [
        "def decToOctal(n):\n",
        "    octalNum = [0] * 100\n",
        "    i = 0\n",
        "    while (n != 0):\n",
        "        octalNum[i] = n % 8\n",
        "        n = int(n / 8)\n",
        "        i += 1\n",
        "\n",
        "    for j in range(i - 1, -1, -1):\n",
        "        print(octalNum[j], end=\"\")\n",
        " \n",
        "n = int(input(\"Enter Decimal number : \"))\n",
        "print(f\"The Octal number in correspondance to {n} is : \")\n",
        "decToOctal(n)"
      ],
      "metadata": {
        "colab": {
          "base_uri": "https://localhost:8080/"
        },
        "id": "b5h2c9qqllSo",
        "outputId": "512ca052-1906-4830-b21d-f5153500b618"
      },
      "execution_count": 16,
      "outputs": [
        {
          "output_type": "stream",
          "name": "stdout",
          "text": [
            "Enter Decimal number : 33\n",
            "The Octal number in correspondance to 33 is : \n",
            "41"
          ]
        }
      ]
    }
  ]
}