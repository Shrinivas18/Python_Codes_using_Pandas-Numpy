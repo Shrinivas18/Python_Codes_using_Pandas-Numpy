{
  "nbformat": 4,
  "nbformat_minor": 0,
  "metadata": {
    "colab": {
      "provenance": [],
      "authorship_tag": "ABX9TyPStHvN42TONU6FUag7vd61",
      "include_colab_link": true
    },
    "kernelspec": {
      "name": "python3",
      "display_name": "Python 3"
    },
    "language_info": {
      "name": "python"
    }
  },
  "cells": [
    {
      "cell_type": "markdown",
      "metadata": {
        "id": "view-in-github",
        "colab_type": "text"
      },
      "source": [
        "<a href=\"https://colab.research.google.com/github/Shrinivas18/Python_Coding_Problems/blob/main/Maximum_product_of_two_integers_in_an_array_where_all_elements_are_positive.ipynb\" target=\"_parent\"><img src=\"https://colab.research.google.com/assets/colab-badge.svg\" alt=\"Open In Colab\"/></a>"
      ]
    },
    {
      "cell_type": "markdown",
      "source": [
        "**PROBLEM :**"
      ],
      "metadata": {
        "id": "pZw_yB_IlgUP"
      }
    },
    {
      "cell_type": "markdown",
      "source": [
        "Find the maximum product of two integers in an array where all elements are positive.\n"
      ],
      "metadata": {
        "id": "vZW5GQ8fmRyb"
      }
    },
    {
      "cell_type": "code",
      "source": [
        "def max_product(arr):\n",
        "    # Initialize two variables to store the two largest numbers\n",
        "    max1, max2 = 0, 0  # O(1), constant time initialization\n",
        " \n",
        "    # Iterate through the array\n",
        "    for num in arr:  # O(n), where n is the length of the array\n",
        "        # If the current number is greater than max1, update max1 and max2\n",
        "        if num > max1:  # O(1), constant time comparison\n",
        "            max2 = max1  # O(1), constant time assignment\n",
        "            max1 = num  # O(1), constant time assignment\n",
        "        # If the current number is greater than max2 but not max1, update max2\n",
        "        elif num > max2:  # O(1), constant time comparison\n",
        "            max2 = num  # O(1), constant time assignment\n",
        " \n",
        "    # Return the product of the two largest numbers\n",
        "    return max1 * max2  # O(1), constant time multiplication\n",
        " \n",
        "arr = [1, 7, 3, 4, 9, 5, 8]\n",
        "print(max_product(arr))  # Output: 63 (9*7)"
      ],
      "metadata": {
        "colab": {
          "base_uri": "https://localhost:8080/"
        },
        "id": "b5h2c9qqllSo",
        "outputId": "f223eb28-2072-4a22-b65c-a7815f2639cc"
      },
      "execution_count": 2,
      "outputs": [
        {
          "output_type": "stream",
          "name": "stdout",
          "text": [
            "72\n"
          ]
        }
      ]
    }
  ]
}