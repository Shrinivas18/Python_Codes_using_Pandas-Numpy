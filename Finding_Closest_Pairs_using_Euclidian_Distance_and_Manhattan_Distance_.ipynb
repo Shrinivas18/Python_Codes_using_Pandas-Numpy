{
  "nbformat": 4,
  "nbformat_minor": 0,
  "metadata": {
    "colab": {
      "provenance": [],
      "authorship_tag": "ABX9TyPT37FTUu6m4R9A7N0SjIZA",
      "include_colab_link": true
    },
    "kernelspec": {
      "name": "python3",
      "display_name": "Python 3"
    },
    "language_info": {
      "name": "python"
    }
  },
  "cells": [
    {
      "cell_type": "markdown",
      "metadata": {
        "id": "view-in-github",
        "colab_type": "text"
      },
      "source": [
        "<a href=\"https://colab.research.google.com/github/Shrinivas18/Python_Coding_Problems/blob/main/Finding_Closest_Pairs_using_Euclidian_Distance_and_Manhattan_Distance_.ipynb\" target=\"_parent\"><img src=\"https://colab.research.google.com/assets/colab-badge.svg\" alt=\"Open In Colab\"/></a>"
      ]
    },
    {
      "cell_type": "markdown",
      "metadata": {
        "id": "POAj5sBgd3gd"
      },
      "source": [
        "### In this problem, we are going to calculate distances between some pairs of points :\n",
        "\n",
        "### <u> Measures of distances </u>\n",
        "* ### Euclidean Distance : The distance between two points $(x_{1},y_{1})$ , $(x_{2},y_{2})$ is defined as :\n",
        "${\\displaystyle d(x,y)={\\sqrt {(x_{1}-x_{2})^{2}+(y_{1}-y_{2})^{2}}}.}$\n",
        "\n",
        "* ### Manhattan Distance : The distance between two points $(x_{1},y_{1})$ , $(x_{2},y_{2})$ is defined as :\n",
        "${\\displaystyle d(x,y)=|x_{1}-x_{2}|+|y_{1}-y_{2}|}$\n"
      ]
    },
    {
      "cell_type": "markdown",
      "metadata": {
        "id": "5ZaKtQlZBLoQ"
      },
      "source": [
        "## Find the closest pairs (excluding self pairs) on the basis of both the distance measures"
      ]
    },
    {
      "cell_type": "code",
      "execution_count": 1,
      "metadata": {
        "id": "d6XIe3WLvEev"
      },
      "outputs": [],
      "source": [
        "# Importing numpy and math libraries.\n",
        "import math\n",
        "import numpy as np"
      ]
    },
    {
      "cell_type": "code",
      "source": [
        "# Creating random points.\n",
        "\n",
        "points=np.random.randint(5,20,(10,2))\n",
        "print(points)"
      ],
      "metadata": {
        "colab": {
          "base_uri": "https://localhost:8080/"
        },
        "id": "VNk6VJJ7wny-",
        "outputId": "9997e6f5-7a77-4ede-a7c7-a2cc73babcc2"
      },
      "execution_count": 2,
      "outputs": [
        {
          "output_type": "stream",
          "name": "stdout",
          "text": [
            "[[13 11]\n",
            " [11 17]\n",
            " [18 19]\n",
            " [17 17]\n",
            " [14 17]\n",
            " [ 7 15]\n",
            " [12 10]\n",
            " [18 12]\n",
            " [18  8]\n",
            " [15  5]]\n"
          ]
        }
      ]
    },
    {
      "cell_type": "code",
      "source": [
        "# Calculating Euclidian distance.\n",
        "\n",
        "def distance_ed(p1,p2):\n",
        "  return round(math.sqrt((p1[0]-p2[0])**2+(p1[1]-p2[1])**2),2) "
      ],
      "metadata": {
        "id": "5D6-wj9CvaL7"
      },
      "execution_count": 3,
      "outputs": []
    },
    {
      "cell_type": "code",
      "source": [
        "# Calculating minimum distances between all points using Euclidian Distance.\n",
        "\n",
        "def euclidian_distance(points):\n",
        "  n=len(points)\n",
        "  x=[]\n",
        "  for i in range(n):\n",
        "    for j in range(n):\n",
        "      d=distance_ed(points[i],points[j])\n",
        "      x.append(d)\n",
        "    \n",
        "  return (np.reshape(x,(10,10)))"
      ],
      "metadata": {
        "id": "wrOO1do9v6ZL"
      },
      "execution_count": 4,
      "outputs": []
    },
    {
      "cell_type": "code",
      "source": [
        "# Displaying minimum distances between all points using Euclidian Distance.\n",
        "\n",
        "print((euclidian_distance(points)))"
      ],
      "metadata": {
        "colab": {
          "base_uri": "https://localhost:8080/"
        },
        "id": "zx9irfjiwvoZ",
        "outputId": "82890653-86ed-407f-c4e7-1859afea4834"
      },
      "execution_count": 5,
      "outputs": [
        {
          "output_type": "stream",
          "name": "stdout",
          "text": [
            "[[ 0.    6.32  9.43  7.21  6.08  7.21  1.41  5.1   5.83  6.32]\n",
            " [ 6.32  0.    7.28  6.    3.    4.47  7.07  8.6  11.4  12.65]\n",
            " [ 9.43  7.28  0.    2.24  4.47 11.7  10.82  7.   11.   14.32]\n",
            " [ 7.21  6.    2.24  0.    3.   10.2   8.6   5.1   9.06 12.17]\n",
            " [ 6.08  3.    4.47  3.    0.    7.28  7.28  6.4   9.85 12.04]\n",
            " [ 7.21  4.47 11.7  10.2   7.28  0.    7.07 11.4  13.04 12.81]\n",
            " [ 1.41  7.07 10.82  8.6   7.28  7.07  0.    6.32  6.32  5.83]\n",
            " [ 5.1   8.6   7.    5.1   6.4  11.4   6.32  0.    4.    7.62]\n",
            " [ 5.83 11.4  11.    9.06  9.85 13.04  6.32  4.    0.    4.24]\n",
            " [ 6.32 12.65 14.32 12.17 12.04 12.81  5.83  7.62  4.24  0.  ]]\n"
          ]
        }
      ]
    },
    {
      "cell_type": "code",
      "source": [
        "# Calculating Manhattan Distance between two points.\n",
        "\n",
        "def distance_md(p1,p2):\n",
        "  return (abs(p1[0]-p2[0])+abs(p1[1]-p2[1]))"
      ],
      "metadata": {
        "id": "NBGD3hFq0_en"
      },
      "execution_count": 6,
      "outputs": []
    },
    {
      "cell_type": "code",
      "source": [
        "# Calculating minimum distances between all points using Manhattan Distance.\n",
        "\n",
        "def manhattan_distance(points):\n",
        "  n=len(points)\n",
        "  x=[]\n",
        "  for i in range(n):\n",
        "    for j in range(n):\n",
        "      d=distance_md(points[i],points[j])\n",
        "      x.append(d)\n",
        "  return(np.reshape(x,(10,10)))\n",
        "  "
      ],
      "metadata": {
        "id": "_jtDwLGl1UHc"
      },
      "execution_count": 7,
      "outputs": []
    },
    {
      "cell_type": "code",
      "source": [
        "# Displaying minimum distances between all points using Manhattan Distance.\n",
        "\n",
        "print(manhattan_distance(points))"
      ],
      "metadata": {
        "colab": {
          "base_uri": "https://localhost:8080/"
        },
        "id": "L_hLksEr1yK7",
        "outputId": "bdee1208-b911-44d0-f3f4-59cbe2011cba"
      },
      "execution_count": 8,
      "outputs": [
        {
          "output_type": "stream",
          "name": "stdout",
          "text": [
            "[[ 0  8 13 10  7 10  2  6  8  8]\n",
            " [ 8  0  9  6  3  6  8 12 16 16]\n",
            " [13  9  0  3  6 15 15  7 11 17]\n",
            " [10  6  3  0  3 12 12  6 10 14]\n",
            " [ 7  3  6  3  0  9  9  9 13 13]\n",
            " [10  6 15 12  9  0 10 14 18 18]\n",
            " [ 2  8 15 12  9 10  0  8  8  8]\n",
            " [ 6 12  7  6  9 14  8  0  4 10]\n",
            " [ 8 16 11 10 13 18  8  4  0  6]\n",
            " [ 8 16 17 14 13 18  8 10  6  0]]\n"
          ]
        }
      ]
    },
    {
      "cell_type": "code",
      "source": [
        "# Minimal Distance between points using Euclidian Distance\n",
        "\n",
        "def min_ed(points):\n",
        "  n=len(points)\n",
        "  nded=(None,None)\n",
        "  a=[]\n",
        "\n",
        "  for i in range(n):\n",
        "    minimum=float('inf')\n",
        "    for j in range(i+1,n):\n",
        "      d=distance_ed(points[i],points[j])\n",
        "      if d < minimum:\n",
        "        minimum=d\n",
        "        nded=(points[i],points[j])\n",
        "    a.append(nded)\n",
        "\n",
        "  \n",
        "  return a\n",
        "\n"
      ],
      "metadata": {
        "id": "aGKp2eJE11NK"
      },
      "execution_count": 9,
      "outputs": []
    },
    {
      "cell_type": "code",
      "source": [
        "# Minimal Distance between points using Manhattan Distance\n",
        "\n",
        "\n",
        "def min_md(points):\n",
        "  n=len(points)\n",
        "  mded=(None,None)\n",
        "  x=[]\n",
        "\n",
        "  for i in range(n):\n",
        "    minimum=float('inf')\n",
        "    for j in range(i+1,n):\n",
        "      d=distance_md(points[i],points[j])\n",
        "\n",
        "      if d < minimum:\n",
        "        minimum=d\n",
        "        mded=(points[i],points[j])\n",
        "    x.append(mded)\n",
        "  \n",
        "  return x\n"
      ],
      "metadata": {
        "id": "mn7WR8UITBee"
      },
      "execution_count": 10,
      "outputs": []
    },
    {
      "cell_type": "code",
      "source": [
        "# Displaying minimal Distance between points using Euclidian Distance.\n",
        "\n",
        "print(min_ed(points))\n"
      ],
      "metadata": {
        "colab": {
          "base_uri": "https://localhost:8080/"
        },
        "id": "ua0a1PxT4TEj",
        "outputId": "12c265bd-73c6-4ad9-ff9b-ab614fe60f2b"
      },
      "execution_count": 11,
      "outputs": [
        {
          "output_type": "stream",
          "name": "stdout",
          "text": [
            "[(array([13, 11]), array([12, 10])), (array([11, 17]), array([14, 17])), (array([18, 19]), array([17, 17])), (array([17, 17]), array([14, 17])), (array([14, 17]), array([18, 12])), (array([ 7, 15]), array([12, 10])), (array([12, 10]), array([15,  5])), (array([18, 12]), array([18,  8])), (array([18,  8]), array([15,  5])), (array([18,  8]), array([15,  5]))]\n"
          ]
        }
      ]
    },
    {
      "cell_type": "code",
      "source": [
        "# Displaying minimal Distance between points using Manhattan Distance.\n",
        "\n",
        "print(min_md(points))\n"
      ],
      "metadata": {
        "colab": {
          "base_uri": "https://localhost:8080/"
        },
        "id": "h1-Z-N_TTwB6",
        "outputId": "423040d8-174c-40d4-8f9d-a79fc7626e64"
      },
      "execution_count": 12,
      "outputs": [
        {
          "output_type": "stream",
          "name": "stdout",
          "text": [
            "[(array([13, 11]), array([12, 10])), (array([11, 17]), array([14, 17])), (array([18, 19]), array([17, 17])), (array([17, 17]), array([14, 17])), (array([14, 17]), array([ 7, 15])), (array([ 7, 15]), array([12, 10])), (array([12, 10]), array([18, 12])), (array([18, 12]), array([18,  8])), (array([18,  8]), array([15,  5])), (array([18,  8]), array([15,  5]))]\n"
          ]
        }
      ]
    }
  ]
}