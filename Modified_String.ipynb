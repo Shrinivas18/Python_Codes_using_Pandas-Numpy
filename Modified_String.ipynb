{
  "nbformat": 4,
  "nbformat_minor": 0,
  "metadata": {
    "colab": {
      "provenance": [],
      "authorship_tag": "ABX9TyOH5Nx8xlmVS0x6Xb8Ju5TA",
      "include_colab_link": true
    },
    "kernelspec": {
      "name": "python3",
      "display_name": "Python 3"
    },
    "language_info": {
      "name": "python"
    }
  },
  "cells": [
    {
      "cell_type": "markdown",
      "metadata": {
        "id": "view-in-github",
        "colab_type": "text"
      },
      "source": [
        "<a href=\"https://colab.research.google.com/github/Shrinivas18/Python_Coding_Problems/blob/main/Modified_String.ipynb\" target=\"_parent\"><img src=\"https://colab.research.google.com/assets/colab-badge.svg\" alt=\"Open In Colab\"/></a>"
      ]
    },
    {
      "cell_type": "markdown",
      "source": [
        "***PROBLEM*** :\n",
        "\n",
        "Take string as an input and reverse individual words if its length is odd and dont change it if its length is even.\n",
        "\n",
        "Return the modified String. "
      ],
      "metadata": {
        "id": "O-eKXuZ2iqIO"
      }
    },
    {
      "cell_type": "code",
      "source": [
        "x=input()\n",
        "s=x.split(\" \")\n",
        "m=\"\"\n",
        "for i in s:\n",
        "  if len(i)%2==0:\n",
        "    m=m+i+\" \"\n",
        "  else:\n",
        "    m=m+i[::-1]+\" \"\n",
        "\n",
        "print(m)\n",
        "\n"
      ],
      "metadata": {
        "colab": {
          "base_uri": "https://localhost:8080/"
        },
        "id": "b5h2c9qqllSo",
        "outputId": "213e1fcc-5f9d-457e-ec17-ad56612b36fa"
      },
      "execution_count": 14,
      "outputs": [
        {
          "output_type": "stream",
          "name": "stdout",
          "text": [
            "One Two Three Four\n",
            "enO owT eerhT Four \n"
          ]
        }
      ]
    }
  ]
}