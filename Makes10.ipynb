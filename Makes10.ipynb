{
  "nbformat": 4,
  "nbformat_minor": 0,
  "metadata": {
    "colab": {
      "provenance": [],
      "authorship_tag": "ABX9TyMoEVQxs6w3kgVwWs/GWNXu",
      "include_colab_link": true
    },
    "kernelspec": {
      "name": "python3",
      "display_name": "Python 3"
    },
    "language_info": {
      "name": "python"
    }
  },
  "cells": [
    {
      "cell_type": "markdown",
      "metadata": {
        "id": "view-in-github",
        "colab_type": "text"
      },
      "source": [
        "<a href=\"https://colab.research.google.com/github/Shrinivas18/Python_Coding_Problems/blob/main/Makes10.ipynb\" target=\"_parent\"><img src=\"https://colab.research.google.com/assets/colab-badge.svg\" alt=\"Open In Colab\"/></a>"
      ]
    },
    {
      "cell_type": "markdown",
      "source": [
        "Given 2 ints, a and b, return True if one if them is 10 or if their sum is 10.\n",
        "\n",
        "\n",
        "makes10(9, 10) → True\n",
        "\n",
        "makes10(9, 9) → False\n",
        "\n",
        "makes10(1, 9) → True"
      ],
      "metadata": {
        "id": "XcpB26uHnRnA"
      }
    },
    {
      "cell_type": "code",
      "source": [
        "def makes10(a, b):\n",
        "  return (a == 10 or b == 10 or a+b == 10)"
      ],
      "metadata": {
        "id": "Zm2nwon0-uaf"
      },
      "execution_count": null,
      "outputs": []
    }
  ]
}