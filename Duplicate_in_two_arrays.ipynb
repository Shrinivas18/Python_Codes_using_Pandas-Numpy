{
  "nbformat": 4,
  "nbformat_minor": 0,
  "metadata": {
    "colab": {
      "provenance": [],
      "authorship_tag": "ABX9TyNY98HIYOYBIL61c8JPRjN/",
      "include_colab_link": true
    },
    "kernelspec": {
      "name": "python3",
      "display_name": "Python 3"
    },
    "language_info": {
      "name": "python"
    }
  },
  "cells": [
    {
      "cell_type": "markdown",
      "metadata": {
        "id": "view-in-github",
        "colab_type": "text"
      },
      "source": [
        "<a href=\"https://colab.research.google.com/github/Shrinivas18/Python_Coding_Problems/blob/main/Duplicate_in_two_arrays.ipynb\" target=\"_parent\"><img src=\"https://colab.research.google.com/assets/colab-badge.svg\" alt=\"Open In Colab\"/></a>"
      ]
    },
    {
      "cell_type": "markdown",
      "source": [
        "**PROBLEM :**"
      ],
      "metadata": {
        "id": "pZw_yB_IlgUP"
      }
    },
    {
      "cell_type": "markdown",
      "source": [
        "Given two arrays arr1[] and arr2[], for each element in arr1[] find the same element in arr2[] and print the index value, if not found print NA."
      ],
      "metadata": {
        "id": "vZW5GQ8fmRyb"
      }
    },
    {
      "cell_type": "code",
      "source": [
        "arr1=['A','B','C','D']\n",
        "arr2=['P','Q','A','D']\n",
        "\n",
        "for i in range(4):\n",
        "  count=4\n",
        "  for j in range(4):\n",
        "    if arr1[i]==arr2[j]:\n",
        "      print(f\"{arr1[i]}- {j}\")\n",
        "    else:\n",
        "      count-=1\n",
        "    if count==0:\n",
        "      print(f\"{arr1[i]}- NA\")\n",
        "    \n",
        "  print(\"\\n\")\n",
        "    "
      ],
      "metadata": {
        "colab": {
          "base_uri": "https://localhost:8080/"
        },
        "id": "b5h2c9qqllSo",
        "outputId": "17442e62-a328-453a-aac9-8a7b440946ea"
      },
      "execution_count": 4,
      "outputs": [
        {
          "output_type": "stream",
          "name": "stdout",
          "text": [
            "A- 2\n",
            "\n",
            "\n",
            "B- NA\n",
            "\n",
            "\n",
            "C- NA\n",
            "\n",
            "\n",
            "D- 3\n",
            "\n",
            "\n"
          ]
        }
      ]
    }
  ]
}