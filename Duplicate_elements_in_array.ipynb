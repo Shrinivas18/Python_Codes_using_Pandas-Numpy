{
  "nbformat": 4,
  "nbformat_minor": 0,
  "metadata": {
    "colab": {
      "provenance": [],
      "authorship_tag": "ABX9TyOTzcT32xtAd8wXDTp6PAlS",
      "include_colab_link": true
    },
    "kernelspec": {
      "name": "python3",
      "display_name": "Python 3"
    },
    "language_info": {
      "name": "python"
    }
  },
  "cells": [
    {
      "cell_type": "markdown",
      "metadata": {
        "id": "view-in-github",
        "colab_type": "text"
      },
      "source": [
        "<a href=\"https://colab.research.google.com/github/Shrinivas18/Python_Coding_Problems/blob/main/Duplicate_elements_in_array.ipynb\" target=\"_parent\"><img src=\"https://colab.research.google.com/assets/colab-badge.svg\" alt=\"Open In Colab\"/></a>"
      ]
    },
    {
      "cell_type": "markdown",
      "source": [
        "**PROBLEM :**"
      ],
      "metadata": {
        "id": "pZw_yB_IlgUP"
      }
    },
    {
      "cell_type": "markdown",
      "source": [
        "Python program to print the duplicate elements of an array."
      ],
      "metadata": {
        "id": "vZW5GQ8fmRyb"
      }
    },
    {
      "cell_type": "code",
      "source": [
        "#Initialize array     \n",
        "arr = [1, 2, 3, 4, 2, 7, 8, 8, 3];     \n",
        "     \n",
        "print(\"Duplicate elements in given array: \");    \n",
        "#Searches for duplicate element    \n",
        "for i in range(0, len(arr)):    \n",
        "    for j in range(i+1, len(arr)):    \n",
        "        if(arr[i] == arr[j]):    \n",
        "            print(arr[j]); "
      ],
      "metadata": {
        "colab": {
          "base_uri": "https://localhost:8080/"
        },
        "id": "b5h2c9qqllSo",
        "outputId": "5bd6e099-10fb-40f0-cbf7-baa407790cfb"
      },
      "execution_count": 10,
      "outputs": [
        {
          "output_type": "stream",
          "name": "stdout",
          "text": [
            "Duplicate elements in given array: \n",
            "2\n",
            "3\n",
            "8\n"
          ]
        }
      ]
    }
  ]
}