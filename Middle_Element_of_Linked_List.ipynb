{
  "nbformat": 4,
  "nbformat_minor": 0,
  "metadata": {
    "colab": {
      "provenance": [],
      "authorship_tag": "ABX9TyMvv0ftcNp1jAbtv3AoX/qf",
      "include_colab_link": true
    },
    "kernelspec": {
      "name": "python3",
      "display_name": "Python 3"
    },
    "language_info": {
      "name": "python"
    }
  },
  "cells": [
    {
      "cell_type": "markdown",
      "metadata": {
        "id": "view-in-github",
        "colab_type": "text"
      },
      "source": [
        "<a href=\"https://colab.research.google.com/github/Shrinivas18/Python_Coding_Problems/blob/main/Middle_Element_of_Linked_List.ipynb\" target=\"_parent\"><img src=\"https://colab.research.google.com/assets/colab-badge.svg\" alt=\"Open In Colab\"/></a>"
      ]
    },
    {
      "cell_type": "markdown",
      "source": [
        "***PROBLEM*** :\n",
        "Write a program in Python to find middle element of a linked list in single pass."
      ],
      "metadata": {
        "id": "O-eKXuZ2iqIO"
      }
    },
    {
      "cell_type": "code",
      "source": [
        "class Node:\n",
        "    def __init__(self, data):\n",
        "        self.data = data\n",
        "        self.next = None\n",
        " \n",
        " \n",
        "class NodeOperation:\n",
        "    def pushNode(self, head_ref, data_val):\n",
        "        new_node = Node(data_val)\n",
        " \n",
        "        new_node.next = head_ref\n",
        " \n",
        "        head_ref = new_node\n",
        "        return head_ref\n",
        " \n",
        "    def printNode(self, head):\n",
        "        while (head != None):\n",
        "            print('%d->' % head.data, end=\"\")\n",
        "            head = head.next\n",
        "        print(\"NULL\")\n",
        " \n",
        "    def getLen(self, head):\n",
        "        temp = head\n",
        "        len = 0\n",
        " \n",
        "        while (temp != None):\n",
        "            len += 1\n",
        "            temp = temp.next\n",
        " \n",
        "        return len\n",
        " \n",
        "    def printMiddle(self, head):\n",
        "        if head != None:\n",
        "            \n",
        "            len = self.getLen(head)\n",
        "            temp = head\n",
        " \n",
        "            midIdx = len // 2\n",
        "            while midIdx != 0:\n",
        "                temp = temp.next\n",
        "                midIdx -= 1\n",
        " \n",
        "            print('The middle element is: ', temp.data)\n",
        " \n",
        " \n",
        "head = None\n",
        "temp = NodeOperation()\n",
        "head = temp.pushNode(head, 5)\n",
        "head = temp.pushNode(head, 4)\n",
        "head = temp.pushNode(head, 3)\n",
        "head = temp.pushNode(head, 2)\n",
        "head = temp.pushNode(head, 1)\n",
        "temp.printNode(head)\n",
        "temp.printMiddle(head)"
      ],
      "metadata": {
        "colab": {
          "base_uri": "https://localhost:8080/"
        },
        "id": "b5h2c9qqllSo",
        "outputId": "671d3331-eab9-40b7-f15e-e0ec4e85dd61"
      },
      "execution_count": 12,
      "outputs": [
        {
          "output_type": "stream",
          "name": "stdout",
          "text": [
            "1->2->3->4->5->NULL\n",
            "The middle element is:  3\n"
          ]
        }
      ]
    }
  ]
}