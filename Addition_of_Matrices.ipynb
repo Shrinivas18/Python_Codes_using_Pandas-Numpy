{
  "nbformat": 4,
  "nbformat_minor": 0,
  "metadata": {
    "colab": {
      "provenance": [],
      "authorship_tag": "ABX9TyNVthznPYKt/IM4Wfw5jtK7",
      "include_colab_link": true
    },
    "kernelspec": {
      "name": "python3",
      "display_name": "Python 3"
    },
    "language_info": {
      "name": "python"
    }
  },
  "cells": [
    {
      "cell_type": "markdown",
      "metadata": {
        "id": "view-in-github",
        "colab_type": "text"
      },
      "source": [
        "<a href=\"https://colab.research.google.com/github/Shrinivas18/Python_Coding_Problems/blob/main/Addition_of_Matrices.ipynb\" target=\"_parent\"><img src=\"https://colab.research.google.com/assets/colab-badge.svg\" alt=\"Open In Colab\"/></a>"
      ]
    },
    {
      "cell_type": "markdown",
      "source": [
        "**PROBLEM :**"
      ],
      "metadata": {
        "id": "pZw_yB_IlgUP"
      }
    },
    {
      "cell_type": "markdown",
      "source": [
        "**Problem** : Addition of two matrices.\n"
      ],
      "metadata": {
        "id": "vZW5GQ8fmRyb"
      }
    },
    {
      "cell_type": "code",
      "source": [
        "import numpy as np\n",
        " \n",
        " \n",
        "# creating first matrix\n",
        "A = np.array([[1, 2], [3, 4]])\n",
        " \n",
        "# creating second matrix\n",
        "B = np.array([[4, 5], [6, 7]])\n",
        " \n",
        "print(\"Printing elements of first matrix\")\n",
        "print(A)\n",
        "print(\"Printing elements of second matrix\")\n",
        "print(B)\n",
        " \n",
        "# adding two matrix\n",
        "print(\"Addition of two matrix\")\n",
        "print(np.add(A, B))"
      ],
      "metadata": {
        "colab": {
          "base_uri": "https://localhost:8080/"
        },
        "id": "b5h2c9qqllSo",
        "outputId": "36a35041-2570-4257-d8eb-1f7ec139c3d8"
      },
      "execution_count": 2,
      "outputs": [
        {
          "output_type": "stream",
          "name": "stdout",
          "text": [
            "Printing elements of first matrix\n",
            "[[1 2]\n",
            " [3 4]]\n",
            "Printing elements of second matrix\n",
            "[[4 5]\n",
            " [6 7]]\n",
            "Addition of two matrix\n",
            "[[ 5  7]\n",
            " [ 9 11]]\n"
          ]
        }
      ]
    }
  ]
}