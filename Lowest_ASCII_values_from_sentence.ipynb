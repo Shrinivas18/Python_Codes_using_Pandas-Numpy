{
  "cells": [
    {
      "cell_type": "markdown",
      "metadata": {
        "id": "view-in-github",
        "colab_type": "text"
      },
      "source": [
        "<a href=\"https://colab.research.google.com/github/Shrinivas18/Python_Coding_Problems/blob/main/Lowest_ASCII_values_from_sentence.ipynb\" target=\"_parent\"><img src=\"https://colab.research.google.com/assets/colab-badge.svg\" alt=\"Open In Colab\"/></a>"
      ]
    },
    {
      "cell_type": "markdown",
      "metadata": {
        "id": "4hHQpomzpne_"
      },
      "source": [
        "**Project** : Python program to print words from a sentence with highest and lowest ASCII value of characters.\n"
      ]
    },
    {
      "cell_type": "code",
      "execution_count": 14,
      "metadata": {
        "colab": {
          "base_uri": "https://localhost:8080/"
        },
        "id": "kWtlhblZpoDK",
        "outputId": "33be09a1-2827-4f5e-8c96-5b73c7a025f2"
      },
      "outputs": [
        {
          "output_type": "stream",
          "name": "stdout",
          "text": [
            "Minimum average ascii word =  beginning\n",
            "Maximum average ascii word =  every\n"
          ]
        }
      ],
      "source": [
        "def averageValue(s):\n",
        "  sumchar = 0\n",
        "  for i in range(len(s)):\n",
        "   sumchar += ord(s[i])\n",
        "  return sumchar // len(s)\n",
        "\n",
        "def printMinMax(string):\n",
        "\tlis = list(string.split(\" \"))\n",
        "\n",
        "\tmaxId = 0\n",
        "\tminId = 0\n",
        "\n",
        "\tmaxi = -1\n",
        "\tmini = 1e9\n",
        "\n",
        "\tfor i in range(len(lis)):\n",
        "\t\tcurr = averageValue(lis[i])\n",
        "\t\tif(curr > maxi):\n",
        "\t\t\tmaxi = curr\n",
        "\t\t\tmaxId = i\n",
        "\n",
        "\t\tif(curr < mini):\n",
        "\n",
        "\t\t\tmini = curr\n",
        "\t\t\tminId = i\n",
        "\n",
        "\tprint(\"Minimum average ascii word = \", lis[minId])\n",
        "\n",
        "\tprint(\"Maximum average ascii word = \", lis[maxId])\n",
        "\n",
        "S = \"every moment is fresh beginning\"\n",
        "printMinMax(S)\n"
      ]
    }
  ],
  "metadata": {
    "colab": {
      "provenance": [],
      "authorship_tag": "ABX9TyP3OC9Kubbl+OIaMBOqV0GS",
      "include_colab_link": true
    },
    "kernelspec": {
      "display_name": "Python 3",
      "name": "python3"
    },
    "language_info": {
      "name": "python"
    }
  },
  "nbformat": 4,
  "nbformat_minor": 0
}