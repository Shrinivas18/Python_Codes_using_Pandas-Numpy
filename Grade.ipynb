{
  "nbformat": 4,
  "nbformat_minor": 0,
  "metadata": {
    "colab": {
      "provenance": [],
      "authorship_tag": "ABX9TyP7Yk0YhjzCDqq+CVnPC+SB",
      "include_colab_link": true
    },
    "kernelspec": {
      "name": "python3",
      "display_name": "Python 3"
    },
    "language_info": {
      "name": "python"
    }
  },
  "cells": [
    {
      "cell_type": "markdown",
      "metadata": {
        "id": "view-in-github",
        "colab_type": "text"
      },
      "source": [
        "<a href=\"https://colab.research.google.com/github/Shrinivas18/Python_Coding_Problems/blob/main/Grade.ipynb\" target=\"_parent\"><img src=\"https://colab.research.google.com/assets/colab-badge.svg\" alt=\"Open In Colab\"/></a>"
      ]
    },
    {
      "cell_type": "markdown",
      "metadata": {
        "id": "P1rOYC8Is8Cf"
      },
      "source": [
        "Get next date\n",
        "\n",
        "Write a Python program to get next day of a given date.\n",
        "\n",
        "Sample Output\n",
        "\n",
        "Input a year: 1974\n",
        "Input a month [1-12]: 2\n",
        "\n",
        "Input a day [1-31]: 15\n",
        "\n",
        "The next date is [yyyy-mm-dd] 1974-2-16.\n",
        "\n",
        "\n",
        "Example 1:\n",
        "\n",
        "Input:\n",
        "\n",
        "2018 7 14\n",
        "\n",
        "Output:\n",
        "\n",
        "The next date is [yyyy-mm-dd] 2018-7-15.\n",
        "\n"
      ]
    },
    {
      "cell_type": "code",
      "source": [
        "def main():\n",
        "    date=list(map(int,input().split(' ')))\n",
        "    year  = date[0]\n",
        "    month = date[1]\n",
        "    day = date[2]\n",
        "    leap_year = False\n",
        "\n",
        "    if year%400 == 0 and year%100 ==0:\n",
        "        leap_year=True\n",
        "    elif year%4 == 0 and year%100 !=0:\n",
        "            leap_year=True\n",
        "    else:\n",
        "        leap_year=False\n",
        "\n",
        "    if month==12 and day==31:\n",
        "        print(f\"The next date is [yyyy-mm-dd] {year+1}-1-1\")\n",
        "    elif month in [1,3,5,7,8,10]:\n",
        "        if day <31:\n",
        "            print(f\"The next date is [yyyy-mm-dd] {year}-{month}-{day+1}\")\n",
        "        else:\n",
        "            print(f\"The next date is [yyyy-mm-dd] {year}-{month+1}-1\")\n",
        "    elif month in [4,6,9,11]:\n",
        "        if day <30:\n",
        "            print(f\"The next date is [yyyy-mm-dd] {year}-{month}-{day+1}\")\n",
        "        else:\n",
        "            print(f\"The next date is [yyyy-mm-dd] {year}-{month+1}-1\")\n",
        "    else:\n",
        "        if leap_year == False:\n",
        "            if day<28:\n",
        "                print(f\"The next date is [yyyy-mm-dd] {year}-{month}-{day+1}\")\n",
        "            else:\n",
        "                print(f\"The next date is [yyyy-mm-dd] {year}-{month+1}-1\")\n",
        "        elif leap_year== True:\n",
        "            if day<29:\n",
        "                print(f\"The next date is [yyyy-mm-dd] {year}-{month}-{day+1}\")\n",
        "            else:\n",
        "                print(f\"The next date is [yyyy-mm-dd] {year}-{month+1}-1\")\n",
        "\n",
        "\n",
        "main()"
      ],
      "metadata": {
        "colab": {
          "base_uri": "https://localhost:8080/"
        },
        "id": "RCmOdVaG3XDh",
        "outputId": "58e8e82a-ed0f-439d-b1c6-95f7b32d5dff"
      },
      "execution_count": 3,
      "outputs": [
        {
          "output_type": "stream",
          "name": "stdout",
          "text": [
            "2020 02 28\n",
            "The next date is [yyyy-mm-dd] 2020-2-29\n"
          ]
        }
      ]
    }
  ]
}