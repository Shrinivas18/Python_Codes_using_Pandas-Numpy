{
  "nbformat": 4,
  "nbformat_minor": 0,
  "metadata": {
    "colab": {
      "provenance": [],
      "authorship_tag": "ABX9TyML4nFI5ISYxoirjrEFz0LM",
      "include_colab_link": true
    },
    "kernelspec": {
      "name": "python3",
      "display_name": "Python 3"
    },
    "language_info": {
      "name": "python"
    }
  },
  "cells": [
    {
      "cell_type": "markdown",
      "metadata": {
        "id": "view-in-github",
        "colab_type": "text"
      },
      "source": [
        "<a href=\"https://colab.research.google.com/github/Shrinivas18/Python_Coding_Problems/blob/main/Rotate_the_2D_matrix_by_90_degree_.ipynb\" target=\"_parent\"><img src=\"https://colab.research.google.com/assets/colab-badge.svg\" alt=\"Open In Colab\"/></a>"
      ]
    },
    {
      "cell_type": "markdown",
      "source": [
        "**PROBLEM :**"
      ],
      "metadata": {
        "id": "pZw_yB_IlgUP"
      }
    },
    {
      "cell_type": "markdown",
      "source": [
        "You are given an (n x n) 2D matrix representing an image, rotate the image by 90 degrees (clockwise).\n",
        "\n",
        "You have to rotate the image in-place, which means you have to modify the input 2D matrix directly.\n",
        "\n",
        "DO NOT allocate another 2D matrix and do the rotation.\n",
        "\n",
        "\n"
      ],
      "metadata": {
        "id": "vZW5GQ8fmRyb"
      }
    },
    {
      "cell_type": "code",
      "source": [
        "import numpy as np\n",
        "\n",
        "def rotate(matrix):\n",
        "    n = len(matrix)\n",
        " \n",
        "    # Transpose the matrix\n",
        "    for i in range(n):  # Iterate over the rows\n",
        "        for j in range(i, n):  # Iterate over the columns starting from the current row 'i'\n",
        "            # Swap the elements at positions (i, j) and (j, i)\n",
        "            matrix[i][j], matrix[j][i] = matrix[j][i], matrix[i][j]\n",
        " \n",
        "    # Reverse each row\n",
        "    for row in matrix:  # Iterate over each row in the matrix\n",
        "        row.reverse()  # Reverse the elements in the current row\n",
        "    return np.array(matrix)\n",
        "\n",
        "x=int(input(\"Number of rows/columns in an array : \"))\n",
        "matrix=[]\n",
        "for i in range(x):\n",
        "  a=[]\n",
        "  for j in range(x):\n",
        "    a.append(int(input(\"Element : \")))\n",
        "\n",
        "  matrix.append(a)\n",
        "\n",
        "print(\"\\nMatrix is : \\n\")\n",
        "print(np.array(matrix))\n",
        "print(\"\\nThe rotated matrix is : \\n\")\n",
        "print(rotate(matrix))"
      ],
      "metadata": {
        "colab": {
          "base_uri": "https://localhost:8080/"
        },
        "id": "b5h2c9qqllSo",
        "outputId": "34085d2c-35ac-4367-a4bf-c003972f6dc8"
      },
      "execution_count": 11,
      "outputs": [
        {
          "output_type": "stream",
          "name": "stdout",
          "text": [
            "Number of rows/columns in an array : 3\n",
            "Element : 1\n",
            "Element : 2\n",
            "Element : 3\n",
            "Element : 4\n",
            "Element : 5\n",
            "Element : 6\n",
            "Element : 7\n",
            "Element : 8\n",
            "Element : 9\n",
            "\n",
            "Matrix is : \n",
            "\n",
            "[[1 2 3]\n",
            " [4 5 6]\n",
            " [7 8 9]]\n",
            "\n",
            "The rotated matrix is : \n",
            "\n",
            "[[7 4 1]\n",
            " [8 5 2]\n",
            " [9 6 3]]\n"
          ]
        }
      ]
    }
  ]
}