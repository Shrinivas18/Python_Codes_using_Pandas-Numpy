{
  "nbformat": 4,
  "nbformat_minor": 0,
  "metadata": {
    "colab": {
      "provenance": [],
      "authorship_tag": "ABX9TyNP1CAUqZAj5Lrc/iFRRxjK",
      "include_colab_link": true
    },
    "kernelspec": {
      "name": "python3",
      "display_name": "Python 3"
    },
    "language_info": {
      "name": "python"
    }
  },
  "cells": [
    {
      "cell_type": "markdown",
      "metadata": {
        "id": "view-in-github",
        "colab_type": "text"
      },
      "source": [
        "<a href=\"https://colab.research.google.com/github/Shrinivas18/Python_Coding_Problems/blob/main/Problem.ipynb\" target=\"_parent\"><img src=\"https://colab.research.google.com/assets/colab-badge.svg\" alt=\"Open In Colab\"/></a>"
      ]
    },
    {
      "cell_type": "markdown",
      "metadata": {
        "id": "H5Bbigt7L95Y"
      },
      "source": [
        "Create a function that takes in n, a, b and returns the number of positive values raised to the nth power that lie in the range [a, b], inclusive.\n"
      ]
    },
    {
      "cell_type": "code",
      "metadata": {
        "id": "N2ALyBnxMht_"
      },
      "source": [
        "power_ranger(2, 49, 65) ➞ 2\n",
        "# 2 squares (n^2) lie between 49 and 65, 49 (7^2) and 64 (8^2)\n",
        "\n",
        "power_ranger(3, 1, 27) ➞ 3\n",
        "# 3 cubes (n^3) lie between 1 and 27, 1 (1^3), 8 (2^3) and 27 (3^3)\n",
        "\n",
        "power_ranger(10, 1, 5) ➞ 1\n",
        "# 1 value raised to the 10th power lies between 1 and 5, 1 (1^10)"
      ],
      "execution_count": null,
      "outputs": []
    },
    {
      "cell_type": "code",
      "metadata": {
        "id": "MwCjQmL6MoKR",
        "outputId": "7c8d8b3b-1480-4b88-93ba-27fc133dbe06",
        "colab": {
          "base_uri": "https://localhost:8080/"
        }
      },
      "source": [
        "# Your code here\n",
        "def power_ranger(n,a,b):\n",
        "  count=0\n",
        "  for i in range(b):\n",
        "    if i**n in range(a,b+1):\n",
        "      count+=1\n",
        "  return count\n",
        "\n",
        "print(power_ranger(2,49,65))"
      ],
      "execution_count": null,
      "outputs": [
        {
          "output_type": "stream",
          "name": "stdout",
          "text": [
            "2\n"
          ]
        }
      ]
    }
  ]
}