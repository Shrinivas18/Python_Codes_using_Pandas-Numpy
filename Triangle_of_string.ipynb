{
  "nbformat": 4,
  "nbformat_minor": 0,
  "metadata": {
    "colab": {
      "provenance": [],
      "authorship_tag": "ABX9TyPPZntAbX4e+7i5MKOA32UO",
      "include_colab_link": true
    },
    "kernelspec": {
      "name": "python3",
      "display_name": "Python 3"
    },
    "language_info": {
      "name": "python"
    }
  },
  "cells": [
    {
      "cell_type": "markdown",
      "metadata": {
        "id": "view-in-github",
        "colab_type": "text"
      },
      "source": [
        "<a href=\"https://colab.research.google.com/github/Shrinivas18/Python_Coding_Problems/blob/main/Triangle_of_string.ipynb\" target=\"_parent\"><img src=\"https://colab.research.google.com/assets/colab-badge.svg\" alt=\"Open In Colab\"/></a>"
      ]
    },
    {
      "cell_type": "markdown",
      "source": [
        "**PROBLEM :**"
      ],
      "metadata": {
        "id": "pZw_yB_IlgUP"
      }
    },
    {
      "cell_type": "markdown",
      "source": [
        "Take a string as an input and print it in the below mentioned format.\n",
        "Input :\n",
        " str1=\"TRACXN\"\n",
        "Output :\n",
        "T\n",
        "TR\n",
        "TRA\n",
        "TRAC\n",
        "TRACX\n",
        "TRACXN"
      ],
      "metadata": {
        "id": "vZW5GQ8fmRyb"
      }
    },
    {
      "cell_type": "code",
      "source": [
        "arr=\"TRACXN\"\n",
        "l=len(arr)\n",
        "for i in range(l+1):\n",
        "  for j in range(i):\n",
        "    print(arr[j],end=\"\")    \n",
        "  print(\"\\n\")\n"
      ],
      "metadata": {
        "colab": {
          "base_uri": "https://localhost:8080/"
        },
        "id": "b5h2c9qqllSo",
        "outputId": "e6e19e85-6e8e-4eda-f6d2-d1096a527b31"
      },
      "execution_count": 8,
      "outputs": [
        {
          "output_type": "stream",
          "name": "stdout",
          "text": [
            "\n",
            "\n",
            "T\n",
            "\n",
            "TR\n",
            "\n",
            "TRA\n",
            "\n",
            "TRAC\n",
            "\n",
            "TRACX\n",
            "\n",
            "TRACXN\n",
            "\n"
          ]
        }
      ]
    }
  ]
}