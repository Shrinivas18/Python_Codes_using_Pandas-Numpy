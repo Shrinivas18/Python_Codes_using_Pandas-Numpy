{
  "nbformat": 4,
  "nbformat_minor": 0,
  "metadata": {
    "colab": {
      "provenance": [],
      "authorship_tag": "ABX9TyNIABVo+wqBHzg7U/l8iLOG",
      "include_colab_link": true
    },
    "kernelspec": {
      "name": "python3",
      "display_name": "Python 3"
    },
    "language_info": {
      "name": "python"
    }
  },
  "cells": [
    {
      "cell_type": "markdown",
      "metadata": {
        "id": "view-in-github",
        "colab_type": "text"
      },
      "source": [
        "<a href=\"https://colab.research.google.com/github/Shrinivas18/Python_Coding_Problems/blob/main/diff21.ipynb\" target=\"_parent\"><img src=\"https://colab.research.google.com/assets/colab-badge.svg\" alt=\"Open In Colab\"/></a>"
      ]
    },
    {
      "cell_type": "markdown",
      "source": [
        "Given an int n, return the absolute difference between n and 21, except return double the absolute difference if n is over 21.\n",
        "\n",
        "\n",
        "diff21(19) → 2\n",
        "\n",
        "diff21(10) → 11\n",
        "\n",
        "diff21(21) → 0"
      ],
      "metadata": {
        "id": "XcpB26uHnRnA"
      }
    },
    {
      "cell_type": "code",
      "source": [
        "def diff21(n):\n",
        "  if n <= 21:\n",
        "    return 21 - n\n",
        "  else:\n",
        "    return (n - 21) * 2"
      ],
      "metadata": {
        "id": "Zm2nwon0-uaf"
      },
      "execution_count": null,
      "outputs": []
    }
  ]
}