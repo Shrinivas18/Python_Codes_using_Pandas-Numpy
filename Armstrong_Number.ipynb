{
  "nbformat": 4,
  "nbformat_minor": 0,
  "metadata": {
    "colab": {
      "provenance": [],
      "authorship_tag": "ABX9TyMpwRER3AwYm8IHcKpuhXZA",
      "include_colab_link": true
    },
    "kernelspec": {
      "name": "python3",
      "display_name": "Python 3"
    },
    "language_info": {
      "name": "python"
    }
  },
  "cells": [
    {
      "cell_type": "markdown",
      "metadata": {
        "id": "view-in-github",
        "colab_type": "text"
      },
      "source": [
        "<a href=\"https://colab.research.google.com/github/Shrinivas18/Python_Coding_Problems/blob/main/Armstrong_Number.ipynb\" target=\"_parent\"><img src=\"https://colab.research.google.com/assets/colab-badge.svg\" alt=\"Open In Colab\"/></a>"
      ]
    },
    {
      "cell_type": "markdown",
      "source": [
        "**PROBLEM :**"
      ],
      "metadata": {
        "id": "pZw_yB_IlgUP"
      }
    },
    {
      "cell_type": "markdown",
      "source": [
        "Check weather the given number is armstrong number or not."
      ],
      "metadata": {
        "id": "vZW5GQ8fmRyb"
      }
    },
    {
      "cell_type": "code",
      "source": [
        "def armstrong(n):\n",
        "  sum=0\n",
        "  if n>0:\n",
        "    while n>0:\n",
        "      d=n%10\n",
        "      sum=sum+(d*d*d)\n",
        "      n=n//10\n",
        "  return sum\n",
        "\n",
        "print(\"Print if the number given is armstrong or not.\\n\")\n",
        "n=int(input(\"Enter number : \"))\n",
        "x=armstrong(n)\n",
        "if x==n:\n",
        "  print(\"Armstrong Number\")\n",
        "else:\n",
        "  print(\"Not an Armstrong Number\")\n"
      ],
      "metadata": {
        "colab": {
          "base_uri": "https://localhost:8080/"
        },
        "id": "b5h2c9qqllSo",
        "outputId": "4628c3c8-4195-4020-b4ca-9dec50627f85"
      },
      "execution_count": 2,
      "outputs": [
        {
          "output_type": "stream",
          "name": "stdout",
          "text": [
            "Print if the number given is armstrong or not.\n",
            "\n",
            "Enter number : 153\n",
            "Armstrong Number\n"
          ]
        }
      ]
    },
    {
      "cell_type": "markdown",
      "source": [],
      "metadata": {
        "id": "SeQjnOOSxRK2"
      }
    }
  ]
}