{
  "nbformat": 4,
  "nbformat_minor": 0,
  "metadata": {
    "colab": {
      "provenance": [],
      "authorship_tag": "ABX9TyPBy+XSx4KhuDNBi6G1njHU",
      "include_colab_link": true
    },
    "kernelspec": {
      "name": "python3",
      "display_name": "Python 3"
    },
    "language_info": {
      "name": "python"
    }
  },
  "cells": [
    {
      "cell_type": "markdown",
      "metadata": {
        "id": "view-in-github",
        "colab_type": "text"
      },
      "source": [
        "<a href=\"https://colab.research.google.com/github/Shrinivas18/Python_Coding_Problems/blob/main/To_add_delete_element_from_SingleLinkedList.ipynb\" target=\"_parent\"><img src=\"https://colab.research.google.com/assets/colab-badge.svg\" alt=\"Open In Colab\"/></a>"
      ]
    },
    {
      "cell_type": "markdown",
      "source": [
        "**PROBLEM :**"
      ],
      "metadata": {
        "id": "pZw_yB_IlgUP"
      }
    },
    {
      "cell_type": "markdown",
      "source": [
        "Program to :\n",
        "1. To add element in an array.\n",
        "2. To delete an element from the beginning.\n",
        "3. To delete an element from an input location.\n",
        "4. To delete an element from the last.\n"
      ],
      "metadata": {
        "id": "vZW5GQ8fmRyb"
      }
    },
    {
      "cell_type": "code",
      "source": [
        "class Node:\n",
        "  def __init__(self, data):\n",
        "    self.data = data\n",
        "    self.next = None\n",
        "\n",
        "#class LinkedList\n",
        "class LinkedList:\n",
        "    def __init__(self):\n",
        "        self.head = None\n",
        "\n",
        "  \n",
        "    def push_back(self, newElement):\n",
        "        newNode = Node(newElement)\n",
        "        if(self.head == None):\n",
        "          self.head = newNode\n",
        "          return\n",
        "        else:\n",
        "          temp = self.head\n",
        "          while(temp.next != None):\n",
        "            temp = temp.next\n",
        "          temp.next = newNode\n",
        "\n",
        "#delete last element\n",
        "    def delete_last(self):\n",
        "        if(self.head != None):\n",
        "          if(self.head.next == None):\n",
        "            self.head = None\n",
        "          else:\n",
        "            temp = self.head\n",
        "            while(temp.next.next != None):\n",
        "              temp = temp.next\n",
        "            lastNode = temp.next\n",
        "            temp.next = None\n",
        "            lastNode = None\n",
        "      #delete at given location\n",
        "    def delete_at_position(self, position):\n",
        "        if self.head is None:\n",
        "            return\n",
        "        if position == 0:\n",
        "            self.head = self.head.next\n",
        "            return self.head\n",
        "        index = 0\n",
        "        current = self.head\n",
        "        prev = self.head\n",
        "        temp = self.head\n",
        "        while current is not None:\n",
        "            if index == position:\n",
        "                temp = current.next\n",
        "                break\n",
        "            prev = current\n",
        "            current = current.next\n",
        "            index += 1\n",
        "        prev.next = temp\n",
        "        return prev\n",
        "    #delete first element\n",
        "    def delete_first(self):\n",
        "        if(self.head!=None):\n",
        "            temp=self.head\n",
        "            self.head = self.head.next\n",
        "            temp=None\n",
        "\n",
        "\n",
        "\n",
        "      #display the content of the list\n",
        "    def PrintList(self):\n",
        "        temp = self.head\n",
        "        if(temp != None):\n",
        "          print(\"The list contains:\", end=\" \")\n",
        "          while (temp != None):\n",
        "            print(temp.data, end=\" \")\n",
        "            temp = temp.next\n",
        "          print()\n",
        "        else:\n",
        "          print(\"The list is empty.\")\n",
        "\n",
        "                 \n",
        "MyList = LinkedList()\n",
        "print(\"press 1 to add an element : \")\n",
        "print(\"press 2 to delete an element from the beginning : \")\n",
        "print(\"press 3 to delete an element from an input location : \")\n",
        "print(\"press 4 to delete an element from the last : \")\n",
        "print(\"press 0 to stop the process and display the content of linked list : \")\n",
        "n=10\n",
        "while(n!=0):\n",
        "    n=int(input(\"Enter your choice: \"))\n",
        "    if(n==1):\n",
        "        MyList.push_back(int(input(\"Enter an element to push: \")))\n",
        "    if(n==2):\n",
        "        print(\"The first element of the linked list is deleted\\n\")\n",
        "        MyList.delete_first()\n",
        "    if(n==4):\n",
        "        print(\"The last element of the linked list is deleted\\n\")\n",
        "        MyList.pop_back()\n",
        "    if(n==3):\n",
        "        pos = int(input(\"Enter the position of element which needs to be deleted : \"))\n",
        "        MyList.delete_at_position(pos)\n",
        "    if(n==0):\n",
        "        break\n",
        "print(\"\\nResult :\\n\")\n",
        "MyList.PrintList()"
      ],
      "metadata": {
        "colab": {
          "base_uri": "https://localhost:8080/"
        },
        "id": "b5h2c9qqllSo",
        "outputId": "fca1d741-862e-4e9f-c187-fc6449c69321"
      },
      "execution_count": 7,
      "outputs": [
        {
          "output_type": "stream",
          "name": "stdout",
          "text": [
            "press 1 to add an element : \n",
            "press 2 to delete an element from the beginning : \n",
            "press 3 to delete an element from an input location : \n",
            "press 4 to delete an element from the last : \n",
            "press 0 to stop the process and display the content of linked list : \n",
            "Enter your choice: 1\n",
            "Enter an element to push: 10\n",
            "Enter your choice: 1\n",
            "Enter an element to push: 20\n",
            "Enter your choice: 1\n",
            "Enter an element to push: 30\n",
            "Enter your choice: 1\n",
            "Enter an element to push: 40\n",
            "Enter your choice: 1\n",
            "Enter an element to push: 50\n",
            "Enter your choice: 1\n",
            "Enter an element to push: 60\n",
            "Enter your choice: 1\n",
            "Enter an element to push: 70\n",
            "Enter your choice: 0\n",
            "\n",
            "Result :\n",
            "\n",
            "The list contains: 10 20 30 40 50 60 70 \n"
          ]
        }
      ]
    }
  ]
}