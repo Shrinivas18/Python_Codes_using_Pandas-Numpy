{
  "nbformat": 4,
  "nbformat_minor": 0,
  "metadata": {
    "colab": {
      "provenance": [],
      "authorship_tag": "ABX9TyPhTu5jL4hG6smIiFc1OM5f",
      "include_colab_link": true
    },
    "kernelspec": {
      "name": "python3",
      "display_name": "Python 3"
    },
    "language_info": {
      "name": "python"
    }
  },
  "cells": [
    {
      "cell_type": "markdown",
      "metadata": {
        "id": "view-in-github",
        "colab_type": "text"
      },
      "source": [
        "<a href=\"https://colab.research.google.com/github/Shrinivas18/Python_Coding_Problems/blob/main/Word_Ending_with_%22ing%22.ipynb\" target=\"_parent\"><img src=\"https://colab.research.google.com/assets/colab-badge.svg\" alt=\"Open In Colab\"/></a>"
      ]
    },
    {
      "cell_type": "markdown",
      "metadata": {
        "id": "abfzTPI9ZfW1"
      },
      "source": [
        "\n",
        "## You are given a sentence : <code>\"I have been walking and running and dancing and smiling and laughing all my life, yet it all seems pointless.\"</code>\n",
        "\n",
        "## You are required to extract all those words from this sentence in a list which ends with <code>ing</code>"
      ]
    },
    {
      "cell_type": "code",
      "metadata": {
        "id": "3iyfDeUBZtWy",
        "outputId": "b67fecba-6054-4879-fbfe-a5cbc93fc313",
        "colab": {
          "base_uri": "https://localhost:8080/"
        }
      },
      "source": [
        "# Your sentence\n",
        "my_sentence = \"I have been walking and running and dancing and smiling and laughing all my life, yet it all seems pointless.\"\n",
        "sent=my_sentence.split(\" \")\n",
        "print(sent)"
      ],
      "execution_count": null,
      "outputs": [
        {
          "output_type": "stream",
          "name": "stdout",
          "text": [
            "['I', 'have', 'been', 'walking', 'and', 'running', 'and', 'dancing', 'and', 'smiling', 'and', 'laughing', 'all', 'my', 'life,', 'yet', 'it', 'all', 'seems', 'pointless.']\n"
          ]
        }
      ]
    },
    {
      "cell_type": "code",
      "metadata": {
        "id": "BXK6kbsNZ_Bp",
        "outputId": "24543d1b-9c60-46e3-f299-73c0bc783bd6",
        "colab": {
          "base_uri": "https://localhost:8080/"
        }
      },
      "source": [
        "# Using list comprehension, extract those words which ends with ing\n",
        "\n",
        "all_words_in_sentence = [ i for i in sent if i[-3:] == \"ing\" ]\n",
        "\n",
        "\n",
        "# Words ending with ing\n",
        "words_ending_with_ing =  all_words_in_sentence\n",
        "print(words_ending_with_ing)\n",
        "\n",
        "# Print those words\n"
      ],
      "execution_count": null,
      "outputs": [
        {
          "output_type": "stream",
          "name": "stdout",
          "text": [
            "['walking', 'running', 'dancing', 'smiling', 'laughing']\n"
          ]
        }
      ]
    }
  ]
}