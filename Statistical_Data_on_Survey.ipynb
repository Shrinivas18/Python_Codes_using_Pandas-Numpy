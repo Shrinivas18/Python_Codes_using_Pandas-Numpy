{
  "nbformat": 4,
  "nbformat_minor": 0,
  "metadata": {
    "colab": {
      "provenance": [],
      "authorship_tag": "ABX9TyNKx1qEKf4C7cT1+WLfhVFr",
      "include_colab_link": true
    },
    "kernelspec": {
      "name": "python3",
      "display_name": "Python 3"
    },
    "language_info": {
      "name": "python"
    }
  },
  "cells": [
    {
      "cell_type": "markdown",
      "metadata": {
        "id": "view-in-github",
        "colab_type": "text"
      },
      "source": [
        "<a href=\"https://colab.research.google.com/github/Shrinivas18/Python_Coding_Problems/blob/main/Statistical_Data_on_Survey.ipynb\" target=\"_parent\"><img src=\"https://colab.research.google.com/assets/colab-badge.svg\" alt=\"Open In Colab\"/></a>"
      ]
    },
    {
      "cell_type": "markdown",
      "metadata": {
        "id": "5qd8g8UUs8CM"
      },
      "source": [
        "## <u>Problem 2 </u>\n",
        "\n",
        "* You went out in your local neighbourhood to collect the data of people residing in the locale. You surveyed 5 people and collected some data and stored that in a dictionary. You recorded their names, their age, their sex, their heights(in cms) and their weights(in kgs)"
      ]
    },
    {
      "cell_type": "code",
      "source": [
        "# Surveyed data\n",
        "\n",
        "locality_data = {'Name' : ['Abhinav','Sohail','Dheeraj','Rashmi','Vaishali'],\n",
        "                  'Age' : [42,29,35,28,32],\n",
        "                  'Sex' : ['Male', 'Male','Male','Female','Female'] ,\n",
        "                  'Height' : [172,175,170,168,170],\n",
        "                  'Weight' : [70,82,60,55,64]\n",
        "                 }"
      ],
      "metadata": {
        "id": "S4VK_aBX01yu"
      },
      "execution_count": 1,
      "outputs": []
    },
    {
      "cell_type": "code",
      "source": [
        "# Calculate the mean height and print it\n",
        "\n",
        "height=locality_data['Height']\n",
        "sum_height=sum(height)\n",
        "count_height=len(height)\n",
        "mean_height=sum_height/count_height\n",
        "\n",
        "print(mean_height)\n"
      ],
      "metadata": {
        "colab": {
          "base_uri": "https://localhost:8080/"
        },
        "id": "4KaNI4i01Iov",
        "outputId": "6f6bb426-b06c-49fd-dada-573e68766bb3"
      },
      "execution_count": 2,
      "outputs": [
        {
          "output_type": "stream",
          "name": "stdout",
          "text": [
            "171.0\n"
          ]
        }
      ]
    },
    {
      "cell_type": "code",
      "source": [
        "# Calculate the median height and print it\n",
        "\n",
        "if count_height%2 !=0:\n",
        "  median_height=height[(count_height+1)//2]\n",
        "else:\n",
        "  median_height=(height[(count_height//2)-1]+height[(count_height)//2])//2\n",
        "\n",
        "print(median_height)\n"
      ],
      "metadata": {
        "colab": {
          "base_uri": "https://localhost:8080/"
        },
        "id": "FOPdzl6P1Q-S",
        "outputId": "59d302e6-1067-4ea0-f193-3bdf9f41ba67"
      },
      "execution_count": 3,
      "outputs": [
        {
          "output_type": "stream",
          "name": "stdout",
          "text": [
            "168\n"
          ]
        }
      ]
    },
    {
      "cell_type": "code",
      "source": [
        "# Calculate the mean weight and print it\n",
        "\n",
        "weight=locality_data['Weight']\n",
        "sum_weight=sum(weight)\n",
        "count_weight=len(weight)\n",
        "mean_weight=sum_weight/count_weight\n",
        "\n",
        "print(mean_weight)\n"
      ],
      "metadata": {
        "colab": {
          "base_uri": "https://localhost:8080/"
        },
        "id": "FWZCR26Z1TFb",
        "outputId": "8a8da598-1af5-436c-ced0-cb72b32a0a8b"
      },
      "execution_count": 4,
      "outputs": [
        {
          "output_type": "stream",
          "name": "stdout",
          "text": [
            "66.2\n"
          ]
        }
      ]
    },
    {
      "cell_type": "code",
      "source": [
        "# Calculate the median weight and print it\n",
        "\n",
        "if count_weight%2 !=0:\n",
        "  median_weight=weight[(count_weight+1)//2]\n",
        "else:\n",
        "  median_weight=(weight[(count_weight//2)-1]+height[(count_weight)//2])//2\n",
        "\n",
        "print(median_weight)\n"
      ],
      "metadata": {
        "colab": {
          "base_uri": "https://localhost:8080/"
        },
        "id": "7WRDgbH21Vr-",
        "outputId": "97d8f5b4-c61e-44ff-d78b-41e1ecfe244d"
      },
      "execution_count": 5,
      "outputs": [
        {
          "output_type": "stream",
          "name": "stdout",
          "text": [
            "55\n"
          ]
        }
      ]
    }
  ]
}