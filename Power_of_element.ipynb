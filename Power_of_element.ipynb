{
  "nbformat": 4,
  "nbformat_minor": 0,
  "metadata": {
    "colab": {
      "provenance": [],
      "authorship_tag": "ABX9TyO7i+JW3mTfZv4LCBB6Ag0n",
      "include_colab_link": true
    },
    "kernelspec": {
      "name": "python3",
      "display_name": "Python 3"
    },
    "language_info": {
      "name": "python"
    }
  },
  "cells": [
    {
      "cell_type": "markdown",
      "metadata": {
        "id": "view-in-github",
        "colab_type": "text"
      },
      "source": [
        "<a href=\"https://colab.research.google.com/github/Shrinivas18/Python_Coding_Problems/blob/main/Power_of_element.ipynb\" target=\"_parent\"><img src=\"https://colab.research.google.com/assets/colab-badge.svg\" alt=\"Open In Colab\"/></a>"
      ]
    },
    {
      "cell_type": "markdown",
      "source": [
        "**PROBLEM :**"
      ],
      "metadata": {
        "id": "pZw_yB_IlgUP"
      }
    },
    {
      "cell_type": "markdown",
      "source": [
        "To calculate Power of an element using recursion."
      ],
      "metadata": {
        "id": "vZW5GQ8fmRyb"
      }
    },
    {
      "cell_type": "code",
      "source": [
        "def power_of_element(m,n):\n",
        "  if m==0:\n",
        "    return 0\n",
        "  elif n==0:\n",
        "    return m\n",
        "  elif n==1:\n",
        "    return m\n",
        "  \n",
        "  else:\n",
        "    mid=n//2\n",
        "    a=power_of_element(m,mid)\n",
        "    \n",
        "    b=a*a\n",
        "\n",
        "    if n%2==0:\n",
        "      return b\n",
        "    else:\n",
        "      return m*b \n",
        "  \n",
        "\n",
        "m=int(input(\"Element : \"))\n",
        "n=int(input(\"Power : \"))\n",
        "\n",
        "s=power_of_element(m,n)\n",
        "\n",
        "print(f\"\\n{m} to the power {n} is : {s}\")\n"
      ],
      "metadata": {
        "colab": {
          "base_uri": "https://localhost:8080/"
        },
        "id": "b5h2c9qqllSo",
        "outputId": "cbf5a4ba-f4cf-4741-b1c0-6aba5359dfbf"
      },
      "execution_count": 14,
      "outputs": [
        {
          "output_type": "stream",
          "name": "stdout",
          "text": [
            "Element : 2\n",
            "Power : 10\n",
            "\n",
            "2 to the power 10 is : 1024\n"
          ]
        }
      ]
    }
  ]
}