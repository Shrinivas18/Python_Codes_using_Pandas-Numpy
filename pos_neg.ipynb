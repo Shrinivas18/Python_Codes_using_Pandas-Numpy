{
  "nbformat": 4,
  "nbformat_minor": 0,
  "metadata": {
    "colab": {
      "provenance": [],
      "authorship_tag": "ABX9TyMbje0uIrd7OdRYtiJFA4Sx",
      "include_colab_link": true
    },
    "kernelspec": {
      "name": "python3",
      "display_name": "Python 3"
    },
    "language_info": {
      "name": "python"
    }
  },
  "cells": [
    {
      "cell_type": "markdown",
      "metadata": {
        "id": "view-in-github",
        "colab_type": "text"
      },
      "source": [
        "<a href=\"https://colab.research.google.com/github/Shrinivas18/Python_Coding_Problems/blob/main/pos_neg.ipynb\" target=\"_parent\"><img src=\"https://colab.research.google.com/assets/colab-badge.svg\" alt=\"Open In Colab\"/></a>"
      ]
    },
    {
      "cell_type": "markdown",
      "source": [
        "Given 2 int values, return True if one is negative and one is positive. Except if the parameter \"negative\" is True, then return True only if both are negative.\n",
        "\n",
        "\n",
        "pos_neg(1, -1, False) → True\n",
        "\n",
        "pos_neg(-1, 1, False) → True\n",
        "\n",
        "pos_neg(-4, -5, True) → True"
      ],
      "metadata": {
        "id": "XcpB26uHnRnA"
      }
    },
    {
      "cell_type": "code",
      "source": [
        "def pos_neg(a, b, negative):\n",
        "  if negative:\n",
        "    return (a < 0 and b < 0)\n",
        "  else:\n",
        "    return ((a < 0 and b > 0) or (a > 0 and b < 0))"
      ],
      "metadata": {
        "id": "Zm2nwon0-uaf"
      },
      "execution_count": null,
      "outputs": []
    }
  ]
}