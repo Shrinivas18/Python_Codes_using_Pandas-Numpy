{
  "nbformat": 4,
  "nbformat_minor": 0,
  "metadata": {
    "colab": {
      "provenance": [],
      "authorship_tag": "ABX9TyNF570+ikOshNiwrKqkcx/o",
      "include_colab_link": true
    },
    "kernelspec": {
      "name": "python3",
      "display_name": "Python 3"
    },
    "language_info": {
      "name": "python"
    }
  },
  "cells": [
    {
      "cell_type": "markdown",
      "metadata": {
        "id": "view-in-github",
        "colab_type": "text"
      },
      "source": [
        "<a href=\"https://colab.research.google.com/github/Shrinivas18/Python_Coding_Problems/blob/main/Decimal_to_Binary.ipynb\" target=\"_parent\"><img src=\"https://colab.research.google.com/assets/colab-badge.svg\" alt=\"Open In Colab\"/></a>"
      ]
    },
    {
      "cell_type": "markdown",
      "source": [
        "**PROBLEM :**"
      ],
      "metadata": {
        "id": "pZw_yB_IlgUP"
      }
    },
    {
      "cell_type": "markdown",
      "source": [
        "Python Program to Convert Decimal Number into Binary."
      ],
      "metadata": {
        "id": "vZW5GQ8fmRyb"
      }
    },
    {
      "cell_type": "code",
      "source": [
        "def DecimalToBinary(num):\n",
        "    if num >= 1:\n",
        "        DecimalToBinary(num // 2)\n",
        "    print(num % 2, end = '')\n",
        "\n",
        " \n",
        "# Driver Code\n",
        "if __name__ == '__main__':\n",
        "    dec_val = int(input(\"Enter Decimal Value : \"))\n",
        "    print(f\"Binary Value correspondance to {dec_val} is : \")\n",
        "    DecimalToBinary(dec_val)\n",
        "\n",
        "    "
      ],
      "metadata": {
        "colab": {
          "base_uri": "https://localhost:8080/"
        },
        "id": "b5h2c9qqllSo",
        "outputId": "d9ac7809-d665-4f97-ddb6-9ac86f5f5aab"
      },
      "execution_count": 14,
      "outputs": [
        {
          "output_type": "stream",
          "name": "stdout",
          "text": [
            "Enter Decimal Value : 24\n",
            "Binary Value correspondance to 24 is : \n",
            "011000"
          ]
        }
      ]
    }
  ]
}