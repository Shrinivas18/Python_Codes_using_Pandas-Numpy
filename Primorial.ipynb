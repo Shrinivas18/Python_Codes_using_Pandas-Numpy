{
  "nbformat": 4,
  "nbformat_minor": 0,
  "metadata": {
    "colab": {
      "provenance": [],
      "authorship_tag": "ABX9TyOoC++toBV7Kw0BVOdrGgDX",
      "include_colab_link": true
    },
    "kernelspec": {
      "name": "python3",
      "display_name": "Python 3"
    },
    "language_info": {
      "name": "python"
    }
  },
  "cells": [
    {
      "cell_type": "markdown",
      "metadata": {
        "id": "view-in-github",
        "colab_type": "text"
      },
      "source": [
        "<a href=\"https://colab.research.google.com/github/Shrinivas18/Python_Coding_Problems/blob/main/Primorial.ipynb\" target=\"_parent\"><img src=\"https://colab.research.google.com/assets/colab-badge.svg\" alt=\"Open In Colab\"/></a>"
      ]
    },
    {
      "cell_type": "markdown",
      "metadata": {
        "id": "QbZFKVo_Ne5V"
      },
      "source": [
        "#Create a function that returns the Primorial of a number.\n",
        "\n",
        "### A Primorial is a product of the first n prime numbers (e.g. 2 x 3 x 5 = 30). 2, 3, 5, 7, 11, 13 are prime numbers. If n was 3, you'd multiply 2 x 3 x 5 = 30 or Primorial = 30.\n",
        "\n"
      ]
    },
    {
      "cell_type": "code",
      "metadata": {
        "id": "Ep95xGJ3NlGo",
        "outputId": "f5632a59-4799-4f58-b838-74580d07bbe5",
        "colab": {
          "base_uri": "https://localhost:8080/"
        }
      },
      "source": [
        "# Your code here\n",
        "\n",
        "def isPrime(num):\n",
        "    x=True\n",
        "    for i in range(2, num):\n",
        "        if num % i == 0:\n",
        "            x= False\n",
        "    return x\n",
        "\n",
        "\n",
        "def prime_generator(num):\n",
        "    if isPrime(num):\n",
        "        return num\n",
        "\n",
        "\n",
        "def primorial(n):\n",
        "    result = 1\n",
        "    for i in range(2,n+2):\n",
        "        for j in range(i,1000):\n",
        "            if isPrime(j):\n",
        "                result = result * prime_generator(j)\n",
        "                break\n",
        "    return result\n",
        "\n",
        "\n",
        "print(primorial(3))\n"
      ],
      "execution_count": null,
      "outputs": [
        {
          "output_type": "stream",
          "name": "stdout",
          "text": [
            "30\n"
          ]
        }
      ]
    }
  ]
}