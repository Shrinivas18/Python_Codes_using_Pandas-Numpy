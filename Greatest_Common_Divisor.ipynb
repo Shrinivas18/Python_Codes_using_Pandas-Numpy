{
  "nbformat": 4,
  "nbformat_minor": 0,
  "metadata": {
    "colab": {
      "provenance": [],
      "authorship_tag": "ABX9TyMMhcdh6K5mfFq0i8G68Xxh",
      "include_colab_link": true
    },
    "kernelspec": {
      "name": "python3",
      "display_name": "Python 3"
    },
    "language_info": {
      "name": "python"
    }
  },
  "cells": [
    {
      "cell_type": "markdown",
      "metadata": {
        "id": "view-in-github",
        "colab_type": "text"
      },
      "source": [
        "<a href=\"https://colab.research.google.com/github/Shrinivas18/Python_Coding_Problems/blob/main/Greatest_Common_Divisor.ipynb\" target=\"_parent\"><img src=\"https://colab.research.google.com/assets/colab-badge.svg\" alt=\"Open In Colab\"/></a>"
      ]
    },
    {
      "cell_type": "markdown",
      "source": [
        "**PROBLEM :**"
      ],
      "metadata": {
        "id": "pZw_yB_IlgUP"
      }
    },
    {
      "cell_type": "markdown",
      "source": [
        "To calculate Greatest Common Divisor of two integers."
      ],
      "metadata": {
        "id": "vZW5GQ8fmRyb"
      }
    },
    {
      "cell_type": "code",
      "source": [
        "def gcd(m,n):\n",
        "  if m==0:\n",
        "    return n\n",
        "  elif n==0:\n",
        "    return m\n",
        "  \n",
        "  else:\n",
        "    if n>m:\n",
        "      return gcd(n%m,m)\n",
        "    else:\n",
        "      return gcd(m%n,n)\n",
        "\n",
        "\n",
        "m=int(input(\"First Element : \"))\n",
        "n=int(input(\"Second Element : \"))\n",
        "\n",
        "s=gcd(m,n)\n",
        "\n",
        "print(f\"\\nGreatest Common Divisor of {m} and {n} is : {s}\")\n"
      ],
      "metadata": {
        "colab": {
          "base_uri": "https://localhost:8080/"
        },
        "id": "b5h2c9qqllSo",
        "outputId": "73874e4b-b760-4a1a-b0c4-c4f25bfc9a63"
      },
      "execution_count": 6,
      "outputs": [
        {
          "output_type": "stream",
          "name": "stdout",
          "text": [
            "First Element : 72\n",
            "Second Element : 8\n",
            "\n",
            "Greatest Common Divisor of 72 and 8 is : 8\n"
          ]
        }
      ]
    }
  ]
}