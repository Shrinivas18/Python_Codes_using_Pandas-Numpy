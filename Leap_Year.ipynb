{
  "nbformat": 4,
  "nbformat_minor": 0,
  "metadata": {
    "colab": {
      "provenance": [],
      "authorship_tag": "ABX9TyNmBTZxzrpX0dWD3MMLCyGn",
      "include_colab_link": true
    },
    "kernelspec": {
      "name": "python3",
      "display_name": "Python 3"
    },
    "language_info": {
      "name": "python"
    }
  },
  "cells": [
    {
      "cell_type": "markdown",
      "metadata": {
        "id": "view-in-github",
        "colab_type": "text"
      },
      "source": [
        "<a href=\"https://colab.research.google.com/github/Shrinivas18/Python_Coding_Problems/blob/main/Leap_Year.ipynb\" target=\"_parent\"><img src=\"https://colab.research.google.com/assets/colab-badge.svg\" alt=\"Open In Colab\"/></a>"
      ]
    },
    {
      "cell_type": "markdown",
      "source": [
        "**PROBLEM :**"
      ],
      "metadata": {
        "id": "pZw_yB_IlgUP"
      }
    },
    {
      "cell_type": "markdown",
      "source": [
        "Check weather the year is leap year ot not."
      ],
      "metadata": {
        "id": "vZW5GQ8fmRyb"
      }
    },
    {
      "cell_type": "code",
      "source": [
        "# Default function to implement conditions to check leap year  \n",
        "def CheckLeap(Year):  \n",
        "  # Checking if the given year is leap year  \n",
        "  if((Year % 400 == 0) or  \n",
        "     (Year % 100 != 0) and  \n",
        "     (Year % 4 == 0)):   \n",
        "    print(\"Given Year is a leap Year\");  \n",
        "  # Else it is not a leap year  \n",
        "  else:  \n",
        "    print (\"Given Year is not a leap Year\")  \n",
        "# Taking an input year from user  \n",
        "Year = int(input(\"Enter the Year: \"))  \n",
        "# Printing result  \n",
        "CheckLeap(Year) "
      ],
      "metadata": {
        "colab": {
          "base_uri": "https://localhost:8080/"
        },
        "id": "b5h2c9qqllSo",
        "outputId": "a6a7b4dd-e9d1-437d-f882-eb22cae34ce1"
      },
      "execution_count": 3,
      "outputs": [
        {
          "output_type": "stream",
          "name": "stdout",
          "text": [
            "Enter the Year: 2020\n",
            "Given Year is a leap Year\n"
          ]
        }
      ]
    }
  ]
}