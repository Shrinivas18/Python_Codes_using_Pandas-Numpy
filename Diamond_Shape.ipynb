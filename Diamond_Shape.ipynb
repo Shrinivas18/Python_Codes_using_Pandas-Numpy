{
  "nbformat": 4,
  "nbformat_minor": 0,
  "metadata": {
    "colab": {
      "provenance": [],
      "authorship_tag": "ABX9TyNofLiIBTQ70FzOAkmT5Vu+",
      "include_colab_link": true
    },
    "kernelspec": {
      "name": "python3",
      "display_name": "Python 3"
    },
    "language_info": {
      "name": "python"
    }
  },
  "cells": [
    {
      "cell_type": "markdown",
      "metadata": {
        "id": "view-in-github",
        "colab_type": "text"
      },
      "source": [
        "<a href=\"https://colab.research.google.com/github/Shrinivas18/Python_Coding_Problems/blob/main/Diamond_Shape.ipynb\" target=\"_parent\"><img src=\"https://colab.research.google.com/assets/colab-badge.svg\" alt=\"Open In Colab\"/></a>"
      ]
    },
    {
      "cell_type": "markdown",
      "source": [
        "**PROBLEM :**"
      ],
      "metadata": {
        "id": "pZw_yB_IlgUP"
      }
    },
    {
      "cell_type": "markdown",
      "source": [
        "Program to print the diamond shape."
      ],
      "metadata": {
        "id": "vZW5GQ8fmRyb"
      }
    },
    {
      "cell_type": "code",
      "source": [
        "def Diamond(rows):\n",
        "    n = 1\n",
        "    for i in range(1, rows + 1):\n",
        "        for j in range (1, (rows - i) + 1):\n",
        "            print(end = \" \")\n",
        "          \n",
        "        while n != (i+1):\n",
        "            print(\"*\", end = \" \")\n",
        "            n = n + 1\n",
        "        n = 1\n",
        "          \n",
        "        # line break\n",
        "        print()\n",
        "  \n",
        "    k = 0\n",
        "    n = 0\n",
        "    for i in range(1, rows + 1):\n",
        "        for j in range (1, k + 1):\n",
        "            print(end = \" \")\n",
        "        k = k + 1\n",
        "          \n",
        "        while n <= (rows - i):\n",
        "            print(\"*\", end = \" \")\n",
        "            n = n + 1\n",
        "        n = 0\n",
        "        print()\n",
        "rows = 5\n",
        "Diamond(rows)"
      ],
      "metadata": {
        "colab": {
          "base_uri": "https://localhost:8080/"
        },
        "id": "b5h2c9qqllSo",
        "outputId": "c321f2bb-0beb-45ce-9a3e-f65477852af7"
      },
      "execution_count": 8,
      "outputs": [
        {
          "output_type": "stream",
          "name": "stdout",
          "text": [
            "    * \n",
            "   * * \n",
            "  * * * \n",
            " * * * * \n",
            "* * * * * \n",
            "* * * * * \n",
            " * * * * \n",
            "  * * * \n",
            "   * * \n",
            "    * \n"
          ]
        }
      ]
    }
  ]
}