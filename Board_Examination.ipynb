{
  "nbformat": 4,
  "nbformat_minor": 0,
  "metadata": {
    "colab": {
      "provenance": [],
      "authorship_tag": "ABX9TyPs/wQBoIKM1XF/59BFWpFj",
      "include_colab_link": true
    },
    "kernelspec": {
      "name": "python3",
      "display_name": "Python 3"
    },
    "language_info": {
      "name": "python"
    }
  },
  "cells": [
    {
      "cell_type": "markdown",
      "metadata": {
        "id": "view-in-github",
        "colab_type": "text"
      },
      "source": [
        "<a href=\"https://colab.research.google.com/github/Shrinivas18/Python_Coding_Problems/blob/main/Board_Examination.ipynb\" target=\"_parent\"><img src=\"https://colab.research.google.com/assets/colab-badge.svg\" alt=\"Open In Colab\"/></a>"
      ]
    },
    {
      "cell_type": "markdown",
      "source": [
        "***PROBLEM*** :\n",
        "\n",
        "During the board examinations. We have to check weather the student did cheat or not. To check weather he/she did cheating or not just check words of the string individually, if the first and last alphabet of the word is same then increment the count and finally return the count value.\n",
        "\n",
        "Sample Input:\n",
        "\n",
        "aa abc adbca bbcab\n",
        "\n",
        "Sample Output:\n",
        "\n",
        "3"
      ],
      "metadata": {
        "id": "O-eKXuZ2iqIO"
      }
    },
    {
      "cell_type": "code",
      "source": [
        "x=input()\n",
        "s=x.split(\" \")\n",
        "count=0\n",
        "\n",
        "for i in s:\n",
        "  l=len(i)\n",
        "  if i[0]==i[l-1]:\n",
        "    count+=1\n",
        "\n",
        "print(count)\n",
        "\n"
      ],
      "metadata": {
        "colab": {
          "base_uri": "https://localhost:8080/"
        },
        "id": "b5h2c9qqllSo",
        "outputId": "7c4ec2b1-f081-4520-f756-59abf2549c4f"
      },
      "execution_count": 15,
      "outputs": [
        {
          "output_type": "stream",
          "name": "stdout",
          "text": [
            "aa abc adbca bbcab\n",
            "3\n"
          ]
        }
      ]
    }
  ]
}