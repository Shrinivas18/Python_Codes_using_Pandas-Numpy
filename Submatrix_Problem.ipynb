{
  "nbformat": 4,
  "nbformat_minor": 0,
  "metadata": {
    "colab": {
      "provenance": [],
      "authorship_tag": "ABX9TyPITfNaO1d/PcTSkrj4f9HH",
      "include_colab_link": true
    },
    "kernelspec": {
      "name": "python3",
      "display_name": "Python 3"
    },
    "language_info": {
      "name": "python"
    }
  },
  "cells": [
    {
      "cell_type": "markdown",
      "metadata": {
        "id": "view-in-github",
        "colab_type": "text"
      },
      "source": [
        "<a href=\"https://colab.research.google.com/github/Shrinivas18/Python_Coding_Problems/blob/main/Submatrix_Problem.ipynb\" target=\"_parent\"><img src=\"https://colab.research.google.com/assets/colab-badge.svg\" alt=\"Open In Colab\"/></a>"
      ]
    },
    {
      "cell_type": "markdown",
      "source": [
        "**PROBLEM :**"
      ],
      "metadata": {
        "id": "pZw_yB_IlgUP"
      }
    },
    {
      "cell_type": "markdown",
      "source": [
        "Create an n x n square matrix, where all the sub-matrix have the sum of opposite corner elements as even."
      ],
      "metadata": {
        "id": "vZW5GQ8fmRyb"
      }
    },
    {
      "cell_type": "code",
      "source": [
        "import itertools\n",
        " \n",
        " \n",
        "def sub_mat_even(n):\n",
        "     \n",
        "    temp = itertools.count(1)\n",
        "     \n",
        "    # create a 2d array ranging\n",
        "    # from 1 to n^2\n",
        "    l = [[next(temp)for i in range(n)]for i in range(n)]\n",
        "     \n",
        "    # If found even we reverse the alternate\n",
        "    # row elements to get all diagonal elements\n",
        "    # as all even or all odd\n",
        "    if n%2 == 0:\n",
        "        for i in range(0,len(l)):\n",
        "            if i%2 == 1:\n",
        "                l[i][:] = l[i][::-1]\n",
        "     \n",
        "    # Printing the array formed\n",
        "    for i in range(n):\n",
        "        for j in range(n):\n",
        "            print(l[i][j],end=\" \")\n",
        "        print()\n",
        " \n",
        "n = 4\n",
        "sub_mat_even(n)"
      ],
      "metadata": {
        "colab": {
          "base_uri": "https://localhost:8080/"
        },
        "id": "b5h2c9qqllSo",
        "outputId": "bbbb1028-6ac9-4a92-c35a-2f41053224de"
      },
      "execution_count": 5,
      "outputs": [
        {
          "output_type": "stream",
          "name": "stdout",
          "text": [
            "1 2 3 4 \n",
            "8 7 6 5 \n",
            "9 10 11 12 \n",
            "16 15 14 13 \n"
          ]
        }
      ]
    }
  ]
}