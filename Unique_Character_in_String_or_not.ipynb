{
  "cells": [
    {
      "cell_type": "markdown",
      "metadata": {
        "id": "view-in-github",
        "colab_type": "text"
      },
      "source": [
        "<a href=\"https://colab.research.google.com/github/Shrinivas18/Python_Coding_Problems/blob/main/Unique_Character_in_String_or_not.ipynb\" target=\"_parent\"><img src=\"https://colab.research.google.com/assets/colab-badge.svg\" alt=\"Open In Colab\"/></a>"
      ]
    },
    {
      "cell_type": "markdown",
      "metadata": {
        "id": "4hHQpomzpne_"
      },
      "source": [
        "**Project** : Determine if a string has all Unique Characters."
      ]
    },
    {
      "cell_type": "code",
      "execution_count": 7,
      "metadata": {
        "colab": {
          "base_uri": "https://localhost:8080/"
        },
        "id": "kWtlhblZpoDK",
        "outputId": "5b2d0b91-ac48-415a-f178-5e35bc05a6c5"
      },
      "outputs": [
        {
          "output_type": "stream",
          "name": "stdout",
          "text": [
            "Enter String : Shrinivas Jamvant\n",
            "The String  Shrinivas Jamvant  has duplicate characters\n"
          ]
        }
      ],
      "source": [
        "def uniqueCharacters(st):\n",
        "    for i in range(len(st)):\n",
        "        for j in range(i + 1,len(st)):\n",
        "            if(st[i] == st[j]):\n",
        "                return False;\n",
        " \n",
        "    return True;\n",
        " \n",
        "st = input(\"Enter String : \");\n",
        " \n",
        "if(uniqueCharacters(st)):\n",
        "    print(\"The String \", st,\" has all unique characters\");\n",
        "else:\n",
        "    print(\"The String \", st, \" has duplicate characters\");\n",
        " "
      ]
    }
  ],
  "metadata": {
    "colab": {
      "provenance": [],
      "authorship_tag": "ABX9TyO4/6UYuf6eHiG0J5IysrZb",
      "include_colab_link": true
    },
    "kernelspec": {
      "display_name": "Python 3",
      "name": "python3"
    },
    "language_info": {
      "name": "python"
    }
  },
  "nbformat": 4,
  "nbformat_minor": 0
}