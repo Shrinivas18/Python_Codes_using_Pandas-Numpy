{
  "nbformat": 4,
  "nbformat_minor": 0,
  "metadata": {
    "colab": {
      "provenance": [],
      "authorship_tag": "ABX9TyOipvA3ZKUiz2y0XVdY2lTI",
      "include_colab_link": true
    },
    "kernelspec": {
      "name": "python3",
      "display_name": "Python 3"
    },
    "language_info": {
      "name": "python"
    }
  },
  "cells": [
    {
      "cell_type": "markdown",
      "metadata": {
        "id": "view-in-github",
        "colab_type": "text"
      },
      "source": [
        "<a href=\"https://colab.research.google.com/github/Shrinivas18/Python_Coding_Problems/blob/main/Grouping_Similar_elements_in_Matrix.ipynb\" target=\"_parent\"><img src=\"https://colab.research.google.com/assets/colab-badge.svg\" alt=\"Open In Colab\"/></a>"
      ]
    },
    {
      "cell_type": "markdown",
      "source": [
        "**PROBLEM :**"
      ],
      "metadata": {
        "id": "pZw_yB_IlgUP"
      }
    },
    {
      "cell_type": "markdown",
      "source": [
        "Group similar elements into Matrix."
      ],
      "metadata": {
        "id": "vZW5GQ8fmRyb"
      }
    },
    {
      "cell_type": "code",
      "source": [
        "from itertools import groupby\n",
        " \n",
        "test_list = [1, 3, 5, 1, 3, 2, 5, 4, 2]\n",
        " \n",
        "print(\"The original list : \" + str(test_list))\n",
        " \n",
        "res = [list(val) for key, val in groupby(sorted(test_list))]\n",
        " \n",
        "print(\"Matrix after grouping : \" + str(res))"
      ],
      "metadata": {
        "colab": {
          "base_uri": "https://localhost:8080/"
        },
        "id": "b5h2c9qqllSo",
        "outputId": "b9e2cc41-49eb-4c8d-c781-6d5feb219327"
      },
      "execution_count": 4,
      "outputs": [
        {
          "output_type": "stream",
          "name": "stdout",
          "text": [
            "The original list : [1, 3, 5, 1, 3, 2, 5, 4, 2]\n",
            "Matrix after grouping : [[1, 1], [2, 2], [3, 3], [4], [5, 5]]\n"
          ]
        }
      ]
    }
  ]
}