{
  "nbformat": 4,
  "nbformat_minor": 0,
  "metadata": {
    "colab": {
      "provenance": [],
      "authorship_tag": "ABX9TyOIbUSqGxFgZAM6mETvqPfJ",
      "include_colab_link": true
    },
    "kernelspec": {
      "name": "python3",
      "display_name": "Python 3"
    },
    "language_info": {
      "name": "python"
    }
  },
  "cells": [
    {
      "cell_type": "markdown",
      "metadata": {
        "id": "view-in-github",
        "colab_type": "text"
      },
      "source": [
        "<a href=\"https://colab.research.google.com/github/Shrinivas18/Python_Codes_using_Pandas-Numpy/blob/main/Queens_Attack.ipynb\" target=\"_parent\"><img src=\"https://colab.research.google.com/assets/colab-badge.svg\" alt=\"Open In Colab\"/></a>"
      ]
    },
    {
      "cell_type": "markdown",
      "source": [
        "**PROBLEM:**\n",
        "\n",
        "You will be given a square chess board with one queen and a number of obstacles placed on it. Determine how many squares the queen can attack.\n",
        "\n",
        "A queen is standing on an (nXn) chessboard. The chess board's rows are numbered from  to 1 to n , going from bottom to top. Its columns are numbered from 1 to n , going from left to right. Each square is referenced by a tuple,(r,c) , describing the row, r , and column, c , where the square is located.\n",
        "\n",
        "The queen is standing at position (r_q , c_q) . In a single move, she can attack any square in any of the eight directions (left, right, up, down, and the four diagonals). \n",
        "\n",
        "Given the queen's position and the locations of all the obstacles, find and print the number of squares the queen can attack from her position at (r_q , c_q)."
      ],
      "metadata": {
        "id": "xDWcLBjpV9qu"
      }
    },
    {
      "cell_type": "code",
      "source": [
        "# Taking inputs from user n(to build nXn matrix) and k(number of obstacles in the chess board) and row and column of queens position.\n",
        "\n",
        "first_multiple_input = input().rstrip().split()\n",
        "n = int(first_multiple_input[0])\n",
        "k = int(first_multiple_input[1])\n",
        "\n",
        "second_multiple_input = input().rstrip().split()\n",
        "\n",
        "r_q = int(second_multiple_input[0])\n",
        "c_q = int(second_multiple_input[1])\n"
      ],
      "metadata": {
        "colab": {
          "base_uri": "https://localhost:8080/"
        },
        "id": "4ne6c2u6XVU_",
        "outputId": "6865a259-5b53-4dd8-b654-ea27cbef38a8"
      },
      "execution_count": 41,
      "outputs": [
        {
          "name": "stdout",
          "output_type": "stream",
          "text": [
            "5 3\n",
            "4 3\n"
          ]
        }
      ]
    },
    {
      "cell_type": "code",
      "execution_count": 42,
      "metadata": {
        "colab": {
          "base_uri": "https://localhost:8080/"
        },
        "id": "gFC0yQbVWw2b",
        "outputId": "0e5bd691-f730-47d3-d8a1-2ab29ae77a9b"
      },
      "outputs": [
        {
          "output_type": "stream",
          "name": "stdout",
          "text": [
            "The nXn chess board :\n",
            "\n",
            " [[0, 0, 0, 0, 0], [0, 0, 0, 0, 0], [0, 0, 0, 0, 0], [0, 0, 0, 0, 0], [0, 0, 0, 0, 0]]\n",
            "\n",
            "\n",
            "Obstacles : 5 5\n",
            "Obstacles : 4 2\n",
            "Obstacles : 2 3\n",
            "The obstacle points are :  [[4, 4], [3, 1], [1, 2]]\n"
          ]
        }
      ],
      "source": [
        "# Creating nXn matrix and initialising it with 0.\n",
        "\n",
        "b=[[0]*n for i in range(n)]\n",
        "print(\"The nXn chess board :\\n\\n\",b)\n",
        "# Taking input row and column of obstacles (if any).\n",
        "\n",
        "obstacles = []\n",
        "print(\"\\n\")\n",
        "for _ in range(k):\n",
        "  obstacles.append(list(map(int, input(\"Obstacles : \").rstrip().split())))\n",
        "\n",
        "for i in obstacles:\n",
        "  for j in range(2):\n",
        "    if i[j]>0:\n",
        "      i[j]-=1\n",
        "\n",
        "if k !=0:\n",
        "  print(\"The obstacle points are : \",obstacles)"
      ]
    },
    {
      "cell_type": "code",
      "source": [
        "# Updating obstacle postions by  1 in the chess board.\n",
        "\n",
        "for i in range(len(obstacles)):\n",
        "  x=obstacles[i][0]\n",
        "  y=obstacles[i][1]\n",
        "  b[x][y]=1\n",
        "print(\"The updated updated chess board values including obstacles :\\n \\n\",b)"
      ],
      "metadata": {
        "colab": {
          "base_uri": "https://localhost:8080/"
        },
        "id": "fJR_mLL6W5rZ",
        "outputId": "a0987a7f-ab89-42b8-996a-551962413d88"
      },
      "execution_count": 43,
      "outputs": [
        {
          "output_type": "stream",
          "name": "stdout",
          "text": [
            "The updated updated chess board values including obstacles :\n",
            " \n",
            " [[0, 0, 0, 0, 0], [0, 0, 1, 0, 0], [0, 0, 0, 0, 0], [0, 1, 0, 0, 0], [0, 0, 0, 0, 1]]\n"
          ]
        }
      ]
    },
    {
      "cell_type": "code",
      "source": [
        "# Adjusting row number and column number for Queens position since array indexing starts from 0.\n",
        "\n",
        "if r_q>0:\n",
        "  r_q-=1\n",
        "if c_q>0:\n",
        "  c_q-=1\n",
        "\n",
        "# Updating Queens position by 2.\n",
        "\n",
        "b[r_q][c_q]=2\n",
        "\n",
        "print(\"The updated chess board values including obstacles and Queen in the board :\\n\\n \",b)"
      ],
      "metadata": {
        "colab": {
          "base_uri": "https://localhost:8080/"
        },
        "id": "-M7e8wPHW6Zp",
        "outputId": "1ccce2d9-3ae2-4892-de80-5c35e43d8897"
      },
      "execution_count": 44,
      "outputs": [
        {
          "output_type": "stream",
          "name": "stdout",
          "text": [
            "The updated chess board values including obstacles and Queen in the board :\n",
            "\n",
            "  [[0, 0, 0, 0, 0], [0, 0, 1, 0, 0], [0, 0, 0, 0, 0], [0, 1, 2, 0, 0], [0, 0, 0, 0, 1]]\n"
          ]
        }
      ]
    },
    {
      "cell_type": "code",
      "source": [
        "# Initialising count variable as zero.\n",
        "count=0\n",
        "\n",
        "# Moves left side of the board horizontally and accounts the number of movements Queen can perform.\n",
        "\n",
        "c1=c_q-1\n",
        "while c1>=0:\n",
        "  if b[r_q][c1]==0:\n",
        "    count+=1\n",
        "  else:\n",
        "    break\n",
        "  c1-=1"
      ],
      "metadata": {
        "id": "NPJ2im5RW9aH"
      },
      "execution_count": 45,
      "outputs": []
    },
    {
      "cell_type": "code",
      "source": [
        "# Moves right side of the board horizontally and accounts the number of movements Queen can perform.\n",
        "\n",
        "c2=c_q+1\n",
        "while c2<=n-1:\n",
        "  if b[r_q][c2]==0:\n",
        "    count+=1\n",
        "  else:\n",
        "    break\n",
        "  c2+=1"
      ],
      "metadata": {
        "id": "n3_vMtF8XARW"
      },
      "execution_count": 46,
      "outputs": []
    },
    {
      "cell_type": "code",
      "source": [
        "# Moves vertically upwards in the board and accounts the number of movements Queen can perform.\n",
        "\n",
        "r1=r_q-1\n",
        "\n",
        "while r1>=0:\n",
        "  if b[r1][c_q]==0:\n",
        "    count+=1\n",
        "  else:\n",
        "    break\n",
        "  r1-=1"
      ],
      "metadata": {
        "id": "sEwnf7YRXCpO"
      },
      "execution_count": 47,
      "outputs": []
    },
    {
      "cell_type": "code",
      "source": [
        "# Moves vertically downwards in the board and accounts the number of movements Queen can perform.\n",
        "\n",
        "r2=r_q+1\n",
        "while r2<=n-1:\n",
        "  if b[r2][c_q]==0:\n",
        "    count+=1\n",
        "  else:\n",
        "    break\n",
        "  r2+=1"
      ],
      "metadata": {
        "id": "7MT8h0g3XFCL"
      },
      "execution_count": 48,
      "outputs": []
    },
    {
      "cell_type": "code",
      "source": [
        "# Moves left diagonal upwards and accounts the number of movements Queen can perform.\n",
        "\n",
        "d1_r_q=r_q-1\n",
        "d1_c_q=c_q-1\n",
        "\n",
        "while (d1_r_q>=0) and (d1_c_q>=0):\n",
        "  if b[d1_r_q][d1_c_q]==0:\n",
        "    count+=1\n",
        "  else:\n",
        "    break\n",
        "  d1_r_q-=1\n",
        "  d1_c_q-=1\n",
        "  "
      ],
      "metadata": {
        "id": "Ek8ens2IXJUM"
      },
      "execution_count": 49,
      "outputs": []
    },
    {
      "cell_type": "code",
      "source": [
        "# Moves right diagonal downwards and accounts the number of movements Queen can perform.\n",
        "\n",
        "d2_r_q=r_q+1\n",
        "d2_c_q=c_q+1\n",
        "while (d2_r_q<=n-1) and (d2_c_q<=n-1):\n",
        "  if b[d2_r_q][d2_c_q]==0:\n",
        "    count+=1\n",
        "  else:\n",
        "    break\n",
        "  d2_r_q+=1\n",
        "  d2_c_q+=1"
      ],
      "metadata": {
        "id": "IHKR_2iSXMG2"
      },
      "execution_count": 50,
      "outputs": []
    },
    {
      "cell_type": "code",
      "source": [
        "# Moves left diagonal downwards and accounts the number of movements Queen can perform.\n",
        "\n",
        "d11_r_q = r_q-1\n",
        "d11_c_q = c_q+1\n",
        "\n",
        "while (d11_r_q >= 0) and (d11_c_q <= n-1):\n",
        "  if b[d11_r_q][d11_c_q] == 0:\n",
        "    count+=1\n",
        "  else:\n",
        "    break\n",
        "  d11_r_q -= 1\n",
        "  d11_c_q += 1"
      ],
      "metadata": {
        "id": "dXVEwNSJXNEs"
      },
      "execution_count": 51,
      "outputs": []
    },
    {
      "cell_type": "code",
      "source": [
        "# Moves right diagonal upwards and accounts the number of movements Queen can perform.\n",
        "\n",
        "d22_r_q = r_q+1\n",
        "d22_c_q = c_q-1\n",
        "\n",
        "while (d22_r_q <= n-1) and (d22_c_q >=0):\n",
        "  if b[d22_r_q][d22_c_q]==0:\n",
        "    count+=1\n",
        "  else:\n",
        "    break\n",
        "  d22_r_q += 1\n",
        "  d22_c_q -= 1"
      ],
      "metadata": {
        "id": "eoJlO2S-XPXr"
      },
      "execution_count": 52,
      "outputs": []
    },
    {
      "cell_type": "code",
      "source": [
        "print(\"The number of movements Queen can perform in the chess board is : \",count)"
      ],
      "metadata": {
        "id": "zH65abDkXRgW",
        "colab": {
          "base_uri": "https://localhost:8080/"
        },
        "outputId": "dad18d71-47e3-4df9-98e8-2f6f5f1ec2fb"
      },
      "execution_count": 53,
      "outputs": [
        {
          "output_type": "stream",
          "name": "stdout",
          "text": [
            "The number of movements Queen can perform in the chess board is :  10\n"
          ]
        }
      ]
    }
  ]
}