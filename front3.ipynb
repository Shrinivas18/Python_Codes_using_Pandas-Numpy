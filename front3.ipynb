{
  "nbformat": 4,
  "nbformat_minor": 0,
  "metadata": {
    "colab": {
      "provenance": [],
      "authorship_tag": "ABX9TyOqP6lKIay4/hLmJGWMgjvy",
      "include_colab_link": true
    },
    "kernelspec": {
      "name": "python3",
      "display_name": "Python 3"
    },
    "language_info": {
      "name": "python"
    }
  },
  "cells": [
    {
      "cell_type": "markdown",
      "metadata": {
        "id": "view-in-github",
        "colab_type": "text"
      },
      "source": [
        "<a href=\"https://colab.research.google.com/github/Shrinivas18/Python_Coding_Problems/blob/main/front3.ipynb\" target=\"_parent\"><img src=\"https://colab.research.google.com/assets/colab-badge.svg\" alt=\"Open In Colab\"/></a>"
      ]
    },
    {
      "cell_type": "markdown",
      "source": [
        "Given a string, we'll say that the front is the first 3 chars of the string. If the string length is less than 3, the front is whatever is there. Return a new string which is 3 copies of the front.\n",
        "\n",
        "\n",
        "front3('Java') → 'JavJavJav'\n",
        "\n",
        "front3('Chocolate') → 'ChoChoCho'\n",
        "\n",
        "front3('abc') → 'abcabcabc'"
      ],
      "metadata": {
        "id": "XcpB26uHnRnA"
      }
    },
    {
      "cell_type": "code",
      "source": [
        "def front3(str):\n",
        "  # Figure the end of the front\n",
        "  front_end = 3\n",
        "  if len(str) < front_end:\n",
        "    front_end = len(str)\n",
        "  front = str[:front_end]\n",
        "  return front + front + front \n",
        "  \n",
        "  # Could omit the if logic, and write simply front = str[:3]\n",
        "  # since the slice is silent about out-of-bounds conditions.\n"
      ],
      "metadata": {
        "id": "Zm2nwon0-uaf"
      },
      "execution_count": null,
      "outputs": []
    }
  ]
}