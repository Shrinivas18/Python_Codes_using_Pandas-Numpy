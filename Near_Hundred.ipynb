{
  "nbformat": 4,
  "nbformat_minor": 0,
  "metadata": {
    "colab": {
      "provenance": [],
      "authorship_tag": "ABX9TyOChtzIM4YSMkyzFHGBYH4b",
      "include_colab_link": true
    },
    "kernelspec": {
      "name": "python3",
      "display_name": "Python 3"
    },
    "language_info": {
      "name": "python"
    }
  },
  "cells": [
    {
      "cell_type": "markdown",
      "metadata": {
        "id": "view-in-github",
        "colab_type": "text"
      },
      "source": [
        "<a href=\"https://colab.research.google.com/github/Shrinivas18/Python_Coding_Problems/blob/main/Near_Hundred.ipynb\" target=\"_parent\"><img src=\"https://colab.research.google.com/assets/colab-badge.svg\" alt=\"Open In Colab\"/></a>"
      ]
    },
    {
      "cell_type": "markdown",
      "source": [
        "\n",
        "Given an int n, return True if it is within 10 of 100 or 200. Note: abs(num) computes the absolute value of a number.\n",
        "\n",
        "\n",
        "near_hundred(93) → True\n",
        "\n",
        "near_hundred(90) → True\n",
        "\n",
        "near_hundred(89) → False"
      ],
      "metadata": {
        "id": "XcpB26uHnRnA"
      }
    },
    {
      "cell_type": "code",
      "source": [
        "def near_hundred(n):\n",
        "  return ((abs(100 - n) <= 10) or (abs(200 - n) <= 10))\n"
      ],
      "metadata": {
        "id": "Zm2nwon0-uaf"
      },
      "execution_count": null,
      "outputs": []
    }
  ]
}