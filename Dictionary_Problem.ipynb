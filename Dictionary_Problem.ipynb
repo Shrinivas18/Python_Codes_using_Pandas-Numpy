{
  "nbformat": 4,
  "nbformat_minor": 0,
  "metadata": {
    "colab": {
      "provenance": [],
      "authorship_tag": "ABX9TyO2MabOUOStna1B9fhRRv77",
      "include_colab_link": true
    },
    "kernelspec": {
      "name": "python3",
      "display_name": "Python 3"
    },
    "language_info": {
      "name": "python"
    }
  },
  "cells": [
    {
      "cell_type": "markdown",
      "metadata": {
        "id": "view-in-github",
        "colab_type": "text"
      },
      "source": [
        "<a href=\"https://colab.research.google.com/github/Shrinivas18/Python_Coding_Problems/blob/main/Dictionary_Problem.ipynb\" target=\"_parent\"><img src=\"https://colab.research.google.com/assets/colab-badge.svg\" alt=\"Open In Colab\"/></a>"
      ]
    },
    {
      "cell_type": "markdown",
      "metadata": {
        "id": "sfCX1u1zLS7o"
      },
      "source": [
        "## <u> Problem 1</u> :  Create a function which takes in an encoded string and returns a dictionary according to the following example:"
      ]
    },
    {
      "cell_type": "code",
      "metadata": {
        "id": "erTCVFcXLQoc"
      },
      "source": [
        "# parse_code(\"John000Doe000123\") ➞ {\n",
        "#   \"first_name\": \"John\",\n",
        "#   \"last_name\": \"Doe\",\n",
        "#   \"id\": \"123\"\n",
        "# }\n",
        "\n",
        "# parse_code(\"michael0smith004331\") ➞ {\n",
        "#   \"first_name\": \"michael\",\n",
        "#   \"last_name\": \"smith\",\n",
        "#   \"id\": \"4331\"\n",
        "# }\n",
        "\n",
        "# parse_code(\"Thomas00LEE0000043\") ➞ {\n",
        "#   \"first_name\": \"Thomas\",\n",
        "#   \"last_name\": \"LEE\",\n",
        "#   \"id\": \"43\"\n",
        "# }"
      ],
      "execution_count": null,
      "outputs": []
    },
    {
      "cell_type": "code",
      "metadata": {
        "id": "ktmy-hs5Mqn8",
        "outputId": "9b09d7a3-c27c-4b8f-eb1e-989337ebbe0f",
        "colab": {
          "base_uri": "https://localhost:8080/"
        }
      },
      "source": [
        "# Your code here\n",
        "def encoded_to_dict(string):\n",
        "  x=string.split(\"0\")\n",
        "  for i in range(x.count('')):\n",
        "    x.remove('')\n",
        "\n",
        "  dict_generated={\"First name\":x[0],\"Last name\":x[1],\"id\":x[2]}\n",
        "  return dict_generated\n",
        "\n",
        "print(encoded_to_dict(\"John000Doe000123\"))\n",
        "\n",
        "\n",
        "\n",
        "\n",
        "\n",
        "\n"
      ],
      "execution_count": null,
      "outputs": [
        {
          "output_type": "stream",
          "name": "stdout",
          "text": [
            "{'First name': 'John', 'Last name': 'Doe', 'id': '123'}\n"
          ]
        }
      ]
    }
  ]
}