{
  "nbformat": 4,
  "nbformat_minor": 0,
  "metadata": {
    "colab": {
      "provenance": [],
      "authorship_tag": "ABX9TyOX85lzXu+HIBcSPHpL/VTv",
      "include_colab_link": true
    },
    "kernelspec": {
      "name": "python3",
      "display_name": "Python 3"
    },
    "language_info": {
      "name": "python"
    }
  },
  "cells": [
    {
      "cell_type": "markdown",
      "metadata": {
        "id": "view-in-github",
        "colab_type": "text"
      },
      "source": [
        "<a href=\"https://colab.research.google.com/github/Shrinivas18/Python_Coding_Problems/blob/main/Pallindrome_recursive_method.ipynb\" target=\"_parent\"><img src=\"https://colab.research.google.com/assets/colab-badge.svg\" alt=\"Open In Colab\"/></a>"
      ]
    },
    {
      "cell_type": "markdown",
      "source": [
        "**PROBLEM :**"
      ],
      "metadata": {
        "id": "pZw_yB_IlgUP"
      }
    },
    {
      "cell_type": "markdown",
      "source": [
        "Program to check weather the number entered is pallindrome or not using recursive method."
      ],
      "metadata": {
        "id": "vZW5GQ8fmRyb"
      }
    },
    {
      "cell_type": "code",
      "source": [
        "n = int(input(\"please give a number : \"))\n",
        "def reverse(num):\n",
        "    if num<10:\n",
        "      return num \n",
        "    else:\n",
        "      return int(str(num%10) + str(reverse(num//10)))\n",
        "def isPalindrome(num):\n",
        "    if num == reverse(num):\n",
        "        return 1\n",
        "    return 0\n",
        "if isPalindrome(n) == 1:\n",
        "    print(\"Given number is a palindrome\")\n",
        "else:\n",
        "    print(\"Given number is a not palindrome\") \n"
      ],
      "metadata": {
        "colab": {
          "base_uri": "https://localhost:8080/"
        },
        "id": "b5h2c9qqllSo",
        "outputId": "5370394b-a3d2-4a7e-ff8b-3512d1e3f0f4"
      },
      "execution_count": 9,
      "outputs": [
        {
          "output_type": "stream",
          "name": "stdout",
          "text": [
            "please give a number : 121\n",
            "Given number is a palindrome\n"
          ]
        }
      ]
    }
  ]
}