{
  "nbformat": 4,
  "nbformat_minor": 0,
  "metadata": {
    "colab": {
      "provenance": [],
      "authorship_tag": "ABX9TyNIv1gV+FlfIBpMnD0oQX3E",
      "include_colab_link": true
    },
    "kernelspec": {
      "name": "python3",
      "display_name": "Python 3"
    },
    "language_info": {
      "name": "python"
    }
  },
  "cells": [
    {
      "cell_type": "markdown",
      "metadata": {
        "id": "view-in-github",
        "colab_type": "text"
      },
      "source": [
        "<a href=\"https://colab.research.google.com/github/Shrinivas18/Python_Coding_Problems/blob/main/Sum_of_diagonal_elements_in_an_array_.ipynb\" target=\"_parent\"><img src=\"https://colab.research.google.com/assets/colab-badge.svg\" alt=\"Open In Colab\"/></a>"
      ]
    },
    {
      "cell_type": "markdown",
      "source": [
        "**PROBLEM :**"
      ],
      "metadata": {
        "id": "pZw_yB_IlgUP"
      }
    },
    {
      "cell_type": "markdown",
      "source": [
        "Given 2D list calculate the sum of diagonal elements.\n",
        "\n",
        "\n"
      ],
      "metadata": {
        "id": "vZW5GQ8fmRyb"
      }
    },
    {
      "cell_type": "code",
      "source": [
        "import numpy as np\n",
        "\n",
        "def diagonal_sum(matrix):\n",
        "    # Initialize the sum to 0\n",
        "    total = 0\n",
        " \n",
        "    # Iterate through the rows of the matrix\n",
        "    for i in range(len(matrix)):\n",
        "        # Add the diagonal element to the total sum\n",
        "        total += matrix[i][i]\n",
        " \n",
        "    return total\n",
        "\n",
        "x=int(input(\"Number of rows/columns in an array : \"))\n",
        "matrix=[]\n",
        "for i in range(x):\n",
        "  a=[]\n",
        "  for j in range(x):\n",
        "    a.append(int(input(\"Element : \")))\n",
        "\n",
        "  matrix.append(a)\n",
        "\n",
        "print(\"\\nMatrix is : \\n\")\n",
        "print(np.array(matrix))\n",
        "print(\"\\nThe sum of diagonal of matrix : \",diagonal_sum(matrix))"
      ],
      "metadata": {
        "colab": {
          "base_uri": "https://localhost:8080/"
        },
        "id": "b5h2c9qqllSo",
        "outputId": "3a0a7493-78ee-4f15-9334-4945eb62fea2"
      },
      "execution_count": 15,
      "outputs": [
        {
          "output_type": "stream",
          "name": "stdout",
          "text": [
            "Number of rows/columns in an array : 3\n",
            "Element : 1\n",
            "Element : 2\n",
            "Element : 3\n",
            "Element : 4\n",
            "Element : 5\n",
            "Element : 6\n",
            "Element : 7\n",
            "Element : 8\n",
            "Element : 9\n",
            "\n",
            "Matrix is : \n",
            "\n",
            "[[1 2 3]\n",
            " [4 5 6]\n",
            " [7 8 9]]\n",
            "\n",
            "The sum of diagonal of matrix :  15\n"
          ]
        }
      ]
    }
  ]
}